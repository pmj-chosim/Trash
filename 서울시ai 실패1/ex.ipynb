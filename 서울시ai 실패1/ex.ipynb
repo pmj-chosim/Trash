{
 "cells": [
  {
   "cell_type": "code",
   "execution_count": 14,
   "metadata": {},
   "outputs": [
    {
     "name": "stdout",
     "output_type": "stream",
     "text": [
      "Requirement already satisfied: sentencepiece in c:\\users\\00\\appdata\\local\\programs\\python\\python310\\lib\\site-packages (0.1.99)\n"
     ]
    },
    {
     "name": "stderr",
     "output_type": "stream",
     "text": [
      "WARNING: You are using pip version 21.2.4; however, version 23.1.2 is available.\n",
      "You should consider upgrading via the 'C:\\Users\\00\\AppData\\Local\\Programs\\Python\\Python310\\python.exe -m pip install --upgrade pip' command.\n",
      "ERROR: Could not find a version that satisfies the requirement torchtext==0.8.0 (from versions: 0.1.1, 0.2.0, 0.2.1, 0.2.3, 0.3.1, 0.4.0, 0.5.0, 0.6.0, 0.12.0, 0.13.0, 0.13.1, 0.14.0, 0.14.1, 0.15.0, 0.15.1)\n",
      "ERROR: No matching distribution found for torchtext==0.8.0\n",
      "WARNING: You are using pip version 21.2.4; however, version 23.1.2 is available.\n",
      "You should consider upgrading via the 'C:\\Users\\00\\AppData\\Local\\Programs\\Python\\Python310\\python.exe -m pip install --upgrade pip' command.\n"
     ]
    }
   ],
   "source": [
    "!pip install sentencepiece\n",
    "!pip install torchtext==0.8.0"
   ]
  },
  {
   "cell_type": "code",
   "execution_count": 15,
   "metadata": {},
   "outputs": [
    {
     "name": "stdout",
     "output_type": "stream",
     "text": [
      "Requirement already satisfied: requests in c:\\users\\00\\appdata\\local\\programs\\python\\python310\\lib\\site-packages (2.29.0)\n",
      "Requirement already satisfied: urllib3<1.27,>=1.21.1 in c:\\users\\00\\appdata\\local\\programs\\python\\python310\\lib\\site-packages (from requests) (1.26.15)\n",
      "Requirement already satisfied: charset-normalizer<4,>=2 in c:\\users\\00\\appdata\\local\\programs\\python\\python310\\lib\\site-packages (from requests) (3.1.0)\n",
      "Requirement already satisfied: idna<4,>=2.5 in c:\\users\\00\\appdata\\local\\programs\\python\\python310\\lib\\site-packages (from requests) (3.4)\n",
      "Requirement already satisfied: certifi>=2017.4.17 in c:\\users\\00\\appdata\\local\\programs\\python\\python310\\lib\\site-packages (from requests) (2022.12.7)\n"
     ]
    },
    {
     "name": "stderr",
     "output_type": "stream",
     "text": [
      "WARNING: You are using pip version 21.2.4; however, version 23.1.2 is available.\n",
      "You should consider upgrading via the 'C:\\Users\\00\\AppData\\Local\\Programs\\Python\\Python310\\python.exe -m pip install --upgrade pip' command.\n"
     ]
    },
    {
     "name": "stdout",
     "output_type": "stream",
     "text": [
      "Requirement already satisfied: bs4 in c:\\users\\00\\appdata\\local\\programs\\python\\python310\\lib\\site-packages (0.0.1)\n",
      "Requirement already satisfied: beautifulsoup4 in c:\\users\\00\\appdata\\local\\programs\\python\\python310\\lib\\site-packages (from bs4) (4.12.2)\n",
      "Requirement already satisfied: soupsieve>1.2 in c:\\users\\00\\appdata\\local\\programs\\python\\python310\\lib\\site-packages (from beautifulsoup4->bs4) (2.4.1)\n"
     ]
    },
    {
     "name": "stderr",
     "output_type": "stream",
     "text": [
      "WARNING: You are using pip version 21.2.4; however, version 23.1.2 is available.\n",
      "You should consider upgrading via the 'C:\\Users\\00\\AppData\\Local\\Programs\\Python\\Python310\\python.exe -m pip install --upgrade pip' command.\n"
     ]
    }
   ],
   "source": [
    "!pip install requests\n",
    "!pip install bs4"
   ]
  },
  {
   "cell_type": "code",
   "execution_count": 16,
   "metadata": {},
   "outputs": [
    {
     "name": "stdout",
     "output_type": "stream",
     "text": [
      "질문: 퇴근길 가정행복 도시락 · 밀키트 할인지원 사업 추진 배경은?\n",
      "답변: 서울시 '엄마아빠 행복프로젝트' 중 일·생활 균형 분야의 하나로 서울거주 만 18세 이하 자녀를 둔 가정에서 아이를 키우는 엄마 아빠의 고단함을 조금이나마 덜어드리고자 ㈜GS리테일(GS25편의점), ㈜BG리테일(CU편의점)과 협력사업으로 신청을 통해 맛있는 한 끼를 간편하게 드실 수 있는 도시락, 밀키트, 샐러드 등 상품을 1개월간 20% 할인받을 수 있도록 지원해드리는 사업이며 올해부터는 편의점 카페음료도 25% 할인 지원됨니다. \n",
      "\n",
      "질문: 퇴근길 가정행복 도시락 · 밀키트 할인지원 사업 이용대상 자격은?\n",
      "답변: 서울거주 만 18세 이하 아이를 둔 가정에서는 누구나 신청 가능합니다. 4 월분 신청은 2004. 3. 1. 이후 출생 자녀이며  매월 신청자격 변경됩니다. \n",
      "\n",
      "질문: 퇴근길 가정행복 도시락 · 밀키트 할인지원 사업은 부모만 신청 가능한가요?\n",
      "답변: 부모뿐만 아니라 자녀도 만 14세 이상이면 직접 신청 가능합니다. 아니면, 부모가 신청한 쿠폰도 자녀가 앱 가입 후, 쿠폰 등록하여 사용하는 것도 가능합니다. \n",
      "\n",
      "질문: 퇴근길 가정행복 도시락 · 밀키트 할인지원 사업 서울거주 외국국적 동포는 신청이 가능한가요?\n",
      "답변: 불가합니다.  신청서 접수를 받는 서울시 공공서비스예약시스템 상에서 외국국적 동포는 거주지 인증이 불가하여 신청이 되지 않습니다.  단기간 내 다수를 대상으로 시행되는 사업으로 물리적인 어려움 양해 바랍니다. 추후 시스템 구축하여 서비스 대상 확대하도록 노력하겠습니다. \n",
      "\n",
      "질문: 퇴근길 가정행복 도시락 · 밀키트 할인지원 사업 신청기간은?\n",
      "답변: 전월 23일부터 3일간 접수하여 당월 1일 쿠폰 발송 원칙입니다. 단, 접수 시작일, 쿠폰 발송일이 휴일인 경우 익일 처리합니다. 예를 들어 2023년 4월분은 3월 23일부터 3월 25일까지 접수하며 쿠폰은 4월 3일에 발송합니다. \n",
      "\n",
      "질문: 퇴근길 가정행복 도시락 · 밀키트 할인지원 사업 신청방법 및 쿠폰 수령방법은?\n",
      "답변: ① 서울시 공공서비스예약(https://yeyak.seoul.go.kr)에 가입  ②   할인쿠폰 핸드폰 문자로 발송(익월 3일, 공휴일의 경우 익일 처리)  ③핸드폰 앱(우리동네GS) 회원가입 및 쿠폰등록 후 사용  ④물품구매(쿠폰등록하면 QR코드가 생김, 편의점 매장 방문하여 직접 구매 후, 계산 시 QR코드 제시하면 할인 적용).  쿠폰 등록 및 사용 방법과 관련 자세한 사항은 ‘서울시 공공서비스예약’ 의 신청서 접수페이지를 참고하시기 바랍니다.\n",
      "\n",
      "질문: 퇴근길 가정행복 도시락 · 밀키트 할인지원 사업 쿠폰 사용기간?\n",
      "답변: 편의점  앱 회원가입 및 쿠폰등록일로부터 30일간 사용 가능합니다 . 자세한 사항은 발송되는 문자 참고 바랍니다. 쿠폰 발행, 등록, 사용 관련은  1644-5425(GS25 편의점고객행복센터) 또는1577-8007(CU고객센터)로 문의 바랍니다. \n",
      "\n",
      "질문: 퇴근길 가정행복 도시락 · 밀키트 할인지원 사업은 서울시 공공서비스예약에서 어느 메뉴로 들어가야 보이나요?\n",
      "답변: 서울시 공공서비스예약(https://yeyak.seoul.go.kr)  접속 후, 문화체험 >   문화행사  또는  서울시 공공서비스예약 접속 후, 통합 검 색창에 ' 엄 마아빠' ,  ' 밀 키트'  등 입력하여 검색하면 됩니다. \n",
      "\n",
      "질문: 퇴근길 가정행복 도시락 · 밀키트 할인지원 사업을 공공서비스예약에서 신청하려고 하는데 잘 안됩니다.\n",
      "답변: 핸드폰 기종이 아이폰일 경우, 사파리로 접속하면 안될 수 있습니다.  일반 인터넷 앱(네이버, 다음 등)으로 접속하시기 바랍 니다. \n",
      "\n",
      "질문: 퇴근길 가정행복 도시락 · 밀키트 할인지원 사업을 공공서비스예약에서 신청하려고 하는데 예약인원을 초과하였다고 나옵니다.\n",
      "답변: 예약인원은 1명으로 제한되어 있으며, 1명으로 표기되고 있는 경우 그 다음으로 진행하시면 됩니다. 1을 초과하는 숫자가 나오거나, 진행이 안되는 경우는 시스템 오류로 새로고침하여 다시 진행해주시기 바랍니다. \n",
      "\n",
      "질문: 퇴근길 가정행복 도시락 · 밀키트 할인지원 사업 쿠폰 수령장소가 서울시청인가요? 직접 받으러 가야 하나요?\n",
      "답변: 쿠폰은 직접 수령하는 것이 아니며, 신청자 핸드폰 문자로 발송됩니다. 신청서 접수페이지 상의 장소(서울시청)은 시스템 상의 한계로 표기되고 있는 것입니다. \n",
      "\n",
      "질문: 서울Pay+ 고객입니다. 서울Pay+가 무엇인가요?\n",
      "답변:   서울Pay+ 는 서울시에서 발행하는 지역화폐인 서울사랑상품권 구매 결제 플랫폼입니다.   소비자에게는 서울사랑상품권 구매·결제, 서울시 주요 행정과 생활금융서비스 제공합니다.  - 행정서비스 : 정책 수당(코로나 국민지원금, 청년 취업장려금 등) 신청 및 수령, 교통, 복지, 관광 등 생활정보 및 정책 안내  - 금융서비스 : 서울사랑상품권 10% 할인 구매 및 결제 생체인증 결제, NFC 결제, 터치 결제 등 결제서비스 제공   가맹점에는 기존과 동일하게 가맹점 부담 수수료 0% 및 소상공인 경영 지원을 위한 다양한 서비스 제공합니다.\n",
      "\n",
      "질문: 서울Pay+ 고객입니다. 왜 서울Pay+로 바뀐건가요?\n",
      "답변: 서울사랑상품권 판매 대행점을 변경하게 된 이유는 「지역사랑상품권 이용 활성화에 관한 법률」 제2조 제2호에 의거 금융회사 또는 전자금융업자가 상품권 판매를 대행하게 되어있어 관련 자격을 갖춘 기관을 공모하게 되었고, 공정한 심사를 거쳐 신한 컨소시엄이 사업자로 선정되었습니다. 가맹점 수수료는 기존과 동일한 0%이며, 서울페이+ 앱을 통해 소비자분들은 현금 이외에 신용카드로도 상품권 구매가 가능하고, 다양한 생활정보와 정책을 안내받으실 수 있습니다.\n",
      "\n",
      "질문: 서울Pay+ 고객입니다. 서울Pay+는 제로페이랑 다른 것인가요?\n",
      "답변: 서울Pay+ 는 제로페이와는 다릅니다.  서울Pay+ 는 서울시가 서울시민과 서울 소상공인을 위해 만든 앱으로 서울사랑상품권 구매·결제와 주요 행정 서비스를 받을 수 있습니다. 제로페이는 전국에서 사용하는 모바일 간편결제 수단입니다.\n",
      "\n",
      "질문: 서울Pay+ 고객입니다. 서울사랑상품권 구매나 사용을 위해 기존에는 제로페이를 쓰고 있었는데, 꼭 새로 서울Pay+앱을 설치해야 하...\n",
      "답변: 제로페이(내 계좌에서 바로 결제)만 사용하시는 경우에는 기존에 사용하시던 앱을 그대로 사용하시면 됩니다. 그러나, 서울사랑상품권을 이용하시던 시민분들은  서울Pay+  앱 외 3개 결제 앱을 설치하셔야 합니다.\n",
      "\n",
      "질문: 서울Pay+ 고객입니다. 서울Pay+로 판매대행앱 변경 후 기존앱(비플 제로페이, 체크페이 등)은 어떻게 되는 건가요?\n",
      "답변: 비플제로페이, 체크페이 등 아래의 기존앱에서 서울사랑상품권 외에 모바일 온누리상품권,  대한민국 농할상품권, 타 지자체 상품권(경남, 강원 등)은 그대로 사용가능합니다. 기존앱이란  비플제로페이, 체크페이, 페이코올원뱅크, 우리WON뱅킹, NH콕뱅크, 썸패스,  IM샵(#), BNK경남은행, 광주은행, 전북은행, PostPay, 유비페이, TAXI zeropay,  시럽월렛, 010PAY, 핀크, 제로페이온, 핀트, 하나원큐 입니다. \n",
      "\n",
      "질문: 서울Pay+ 고객입니다. 새로「서울Pay+앱을 설치하면 기존에 사용하던 서울사랑상품권은 어떻게 되는지?\n",
      "답변: 한시적으로 소비자 편의를 위해 기존에 사용하던 앱으로 결제 서비스를 이용할 수 있습니다. 서울페이+로 일괄 이관 시점은 미정이나, 개인별로 제로페이 앱→ 서울페이+로 이관할 수 있는 시스템이 마련될 예정입니다. 일괄 이관 이후에는 제로페이 앱에서는 서울사랑상품권 이용이 불가하며 서울페이+앱을 설치하여야 기존에 구매해둔 서울사랑상품권 이용이 가능합니다.  이관되는 상품권으로는 서울시와 자치구에서 발행한 지역사랑상품권 (25개 자치구 서울사랑상품권 (광역)서울사랑상품권 상권회복특별지원상품권 e-서울사랑상품권 등)이 있고 이관되지 않는 상품권으로는 서울시에서 발행하지 않은 제로페이 모바일상품권(모바일 온누리상품권, 한우사랑상품권, 대한민국 농할상품권, 대한민국수산대전상품권, 경남/전남/강원/충북사랑상품권 등)이 있습니다\n",
      "\n",
      "질문: 서울Pay+ 고객입니다. 서울Pay+로 상품권 이관까지 새로운 앱 설치 및 회원가입이 되지 않으면 기존 상품권은 사라지나요?\n",
      "답변: 아닙니다.  개인별 상품권 보유 잔액 정보는   새로운 서울사랑상품권 시스템으로 이관되어 저장됩니다.   일괄 이관 후에 신규 앱* 설치 > 회원 가입하시면 기존 구매 상품권을   확인하실 수 있습니다.\n",
      "\n",
      "질문: 서울Pay+ 고객입니다. 외국인도 서울Pay+ 에 가입 가능한가요?\n",
      "답변: 서울Pay+  앱 가입 시 기존 한글 성명으로 가입해야 하던 부분에서 4월 1일부터 영문 성명 가입이 가능하도록 개선되었습니다.  1. 본인인증 : 통신사 검증을 위하여 통신사 가입 시 입력한 한글 또는 영문 성명 입력 (예- 영문명 : David 한글명 : 데이비드)  2. 고객정보 입력 : 고객정보 이름은 영문명 또는 한글명을 선택 입력하고, 하단 이름(국문)은 예금주명 인증을 위해 입력하며 외국인의 경우 예금주명 일치 여부를 검증하지 않습니다.  3. 구매 계좌등록 : 은행 계좌 발급 시 등록한 실명 번호를 확인하며 이때 계좌 발급 시 등록한 실명 번호가 주민등록번호가 아닌 경우 해당 은행에서 실명 번호를 주민등록번호로 변경해야 합니다.  4. 신분증 검증 : 민원24에 등록된 정보가 일치하는지 여부 확인하여 검증합니다.\n",
      "\n",
      "질문: 서울Pay+ 고객입니다. 서울 거주자가 아닌데도 서울Pay+에 가입 가능한가요?\n",
      "답변: 서울페이+ 앱은 서울 거주 시민뿐만 아니라 타시도 주민들도 자유롭게 앱을 설치하고 회원가입을 하실 수 있습니다.\n",
      "\n",
      "질문: 서울Pay+ 고객입니다. 서울Pay+ 회원가입에 연령제한이 있나요?\n",
      "답변: 서울페이+ 앱은 만 14세 이상인 경우 회원가입이 가능합니다.\n",
      "\n",
      "질문: 서울Pay+ 고객입니다. 예산이 소진된 자치구 서울사랑상품권은 판매 주기가 있나요? 언제 구매할 수 있나요?\n",
      "답변: 정해진 판매 주기는 없으나, 예산이 확보되면 추가 발행될 수 있습니다.\n",
      "\n",
      "질문: 서울Pay+ 고객입니다. 서울사랑상품권은 얼마까지 구매 할 수 있나요?\n",
      "답변: 1인당 서울사랑상품권별 할인 구매한도는 최저 1만원부터 만원단위로 최대 70만원까지입니다.  서울사랑상품권  보유 및 구매한도 금액은  서울사랑상품권  종류별로 관리됩니다. 예를 들어 종로 사랑상품권  70만원 구입 후 성동 사랑상품권 도 63만원 구매가능합니다. \n",
      "\n",
      "질문: 서울Pay+ 고객입니다. 서울사랑상품권은 얼마까지 보유할 수 있나요?\n",
      "답변: 품권별 보유한도는 서울사랑상품권별 200만원입니다.  품권별 보유한도는 서울사랑상품권별 200만원입니다.  (단, 구매 계좌를 등록하지 않고 카드(신용·체크)로 구매하시는 경우 보유한도 50만원)\n",
      "\n",
      "질문: 서울Pay+ 고객입니다. 기존에 마포사랑상품권을 150만원 보유하고 있었는데, 서울pay+앱에서 신규로 마포사랑상품권을 70만원 구...\n",
      "답변: 네 정상 이관됩니다.  서울사랑상품권  보유한도는  서울사랑상품권 별 200만원이나, 소비자 편의를 위해 기존앱에서 이관되는  서울사랑상품권 과 신규앱에서 구매한  서울사랑상품권 은 별도로 관리하고 있습니다.\n",
      "\n",
      "질문: 서울Pay+ 고객입니다. 구매 계좌 등록 없이 서울사랑상품권 구매도 가능한가요?\n",
      "답변: 네, 구매 계좌 등록없이 카드(신용·체크)로 서울사랑상품권 구매할 수 있습니다. 단, 여신전문금융업법 시행령 의해 카드로 구매할 수 있는 서울사랑상품권별 한도는 50만원입니다. \n",
      "\n",
      "질문: 서울Pay+ 고객입니다. 청년 취업장려금(정책수당)을 받았어요. 이 금액도 서울사랑상품권 보유한도에 포함되나요?\n",
      "답변:  아닙니다.  청년 취업장려금과 같이 정책수당 지급액은 보유 한도에 포함되지 않습니다.\n",
      "\n",
      "질문: 서울Pay+ 고객입니다. 결제앱 별로 서울사랑상품권을 따로 보유할 수 있나요?\n",
      "답변: 아닙니다.  결제앱 상관없이 구매한도, 보유한도 모두 통합으로 운영됩니다. 만약 서울페이+에서 서울사랑상품권을 구매하셨다면,  타 결제앱(「티머니페이신한 쏠머니트리)에서도 만약 서울페이+에서 서울사랑상품권을 구매하셨다면,  타 결제앱(「티머니페이신한 쏠머니트리)에서도 만약 서울페이+에서 서울사랑상품권을 구매하셨다면,  타 결제앱(「티머니페이신한 쏠머니트리)에서도 만약 서울페이+에서 서울사랑상품권을 구매하셨다면,  타 결제앱(「티머니페이신한 쏠머니트리)에서도 만약 서울페이+에서 서울사랑상품권을 구매하셨다면,  타 결제앱(「티머니페이신한 쏠머니트리)에서도 만약 서울페이+에서 서울사랑상품권을 구매하셨다면,  타 결제앱(「티머니페이신한 쏠머니트리)에서도  타 결제앱(「티머니페이신한 쏠머니트리)에서도  타 결제앱(「티머니페이신한 쏠머니트리)에서도  타 결제앱(「티머니페이신한 쏠머니트리)에서도  타 결제앱(「티머니페이신한 쏠머니트리)에서도  타 결제앱(「티머니페이신한 쏠머니트리)에서도  타 결제앱(「티머니페이신한 쏠머니트리)에서도  타 결제앱(「티머니페이신한 쏠머니트리)에서도  타 결제앱(「티머니페이신한 쏠머니트리)에서도  타 결제앱(「티머니페이신한 쏠머니트리)에서도  타 결제앱(「티머니페이신한 쏠머니트리)에서도  타 결제앱(「티머니페이신한 쏠머니트리)에서도  타 결제앱(「티머니페이신한 쏠머니트리)에서도  타 결제앱(「티머니페이신한 쏠머니트리)에서도  타 결제앱(「티머니페이신한 쏠머니트리)에서도  타 결제앱(「티머니페이신한 쏠머니트리)에서도  타 결제앱(「티머니페이신한 쏠머니트리)에서도    구매하신 서울사랑상품권을    동일하게 확인하실 수 있습니다.\n",
      "\n",
      "질문: 서울Pay+ 고객입니다. 서울Pay+외에 다른 앱은 없나요?\n",
      "답변: 1월 24일부터 서울사랑상품권 구매와 결제가 가능한 앱은 서울Pay+티머니페이신한 쏠머니트리 4개이며,  다른 결제앱도 순차적으로 오픈될 예정입니다.\n",
      "\n",
      "질문: 서울Pay+ 고객입니다. 모든 카드사의 카드를 통해 서울사랑상품권 구매가 가능한가요?\n",
      "답변:  아닙니다.  신한카드(신용,체크)로만 서울사랑상품권 구매가 가능합니다.\n",
      "\n",
      "질문: 서울Pay+ 고객입니다. 카드로는 서울사랑상품권을 얼마나 구매할 수 있나요?\n",
      "답변: 신용카드로는 모든 서울사랑상품권을 합산한 구매한도가 월 100만원입니다.  신용카드 월 구매한도 100만원은 서울사랑상품권별 할인구매한도 70만원과 별개입니다. 체크카드는 신용카드와 같이 별도 구매제한 없으며, 서울사랑상품권별 구매한도, 보유한도만 적용 합니다.\n",
      "\n",
      "질문: 서울Pay+ 고객입니다. 서울사랑상품권은 어디에서 쓸 수 있나요?\n",
      "답변: 서울사랑상품권은 각 자치구별 서울사랑상품권 가맹점에서 사용하실 수 있습니다.  자세한 가맹점 현황은서울Pay+ 앱 내 가맹점 찾기 메뉴에서 확인하실 수 있습니다.\n",
      "\n",
      "질문: 서울Pay+ 고객입니다. 기존에는 서울사랑상품권을 대부분 제로페이 가맹점에서 사용했는데, 앞으로 제로페이 가맹점에서는 사용이 불가능...\n",
      "답변: 기존에 서울사랑상품권을 사용하셨던 가맹점이라면 그대로 결제가 가능합니다! 자세한 가맹점은서울Pay+ 앱 내 가맹점 찾기 메뉴에서 확인하실 수 있습니다. 자세한 가맹점은서울Pay+ 앱 내 가맹점 찾기 메뉴에서 확인하실 수 있습니다.  \n",
      "\n",
      "질문: 서울Pay+ 고객입니다. 서울사랑상품권 결제는 어떻게 하는 건가요?\n",
      "답변: QR코드를 스캔하여 결제하는 경우, 기존에 결제했던 방식과 똑같습니다. 바코드 결제의 경우에는 가맹점주분께 바코드를 제시하시면 기존과 동일한 방식으로 결제가 바코드 결제의 경우에는 가맹점주분께 바코드를 제시하시면 기존과 동일한 방식으로 결제가  가능합니다. 다만, 포스에서 특정값을 입력하는 경우에는 신용앱카드 혹은 신용카드라고  말씀해주시면 됩니다.\n",
      "\n",
      "질문: 서울Pay+ 고객입니다. 서울사랑상품권 결제 우선 순위가 있나요?\n",
      "답변: 동일한 서울사랑상품권을 다수 보유하고 있는 경우 유효기간이 짧은 서울사랑상품권부터 사용처리되며,  유효기간이 동일한 경우 구매 순서대로 사용처리됩니다.\n",
      "\n",
      "질문: 서울Pay+ 고객입니다. 서울사랑상품권 구매 취소와 잔액환불은 어떻게 하나요?\n",
      "답변: 서울사랑상품권 구매 취소(전액 환불) 및 잔액 환불은 앱에서   직접 하실 수 있습니다.  -  서울Pay+  앱  >  전체메뉴 > 마이페이지 > 환불신청 단, 신용카드로 구매하실 경우 잔액 환불은 불가합니다.\n",
      "\n",
      "질문: 서울Pay+ 고객입니다. 서울pay+로 이관받지 않고 기존에 구매한 서울사랑상품권을 전체 환불하고 싶어요\n",
      "답변: 기존 구매 서울사랑상품권*은 각 결제앱에서 조건없이 전체 환불 받으실 수 있습니다. 기존구매서울사랑상품권란 25개 자치구 서울사랑상품권, e-서울사랑상품권, 상권회복특별지원서울사랑상품권 등 입니다.  단, OK국민지원금 등 복지성 지급 서울사랑상품권은 환불 불가 환불방법 : 결제앱 내 직접 신청 환불조건 : 없음 (60% 이상 사용 등 조건 미적용) 환불금액 : 보유 잔액에서 할인지원금(할인율 계산)을 제외한 전액\n",
      "\n",
      "질문: 서울Pay+ 고객입니다. 기존에 구매했던 서울사랑상품권을 서울Pay+로 이관받았어요. 새로운 앱에서도 환불 가능한가요?\n",
      "답변:  네 가능합니다.  이관받은 서울사랑상품권은 환불 조건(60% 사용 후 잔액환불)과 관계없이 환불이 가능 이관받은 서울사랑상품권은 환불 조건(60% 사용 후 잔액환불)과 관계없이 환불이 가능 합니다. \n",
      "\n",
      "질문: 서울Pay+ 고객입니다. 신용카드로 구매한 서울사랑상품권도 모두 환불 가능한가요?\n",
      "답변: 신용카드로 구매한 서울사랑상품권은 구매취소는 가능하나,  잔액 환불은 불가  잔액 환불은 불가 합니다.\n",
      "\n",
      "질문: 서울Pay+ 고객입니다. 서울사랑상품권 소득공제는 어떻게 받을 수 있나요?\n",
      "답변: 소득공제의 경우,  서울사랑상품권 구매시가 아니라 결제시에 적용 서울사랑상품권 구매시가 아니라 결제시에 적용 (소득공제율 30%)되며  제3자 정보제공동의를 통해   국세청에 자동으로 전송됩니다.  또한 서울사랑상품권은 선불전자지급수단으로 현금영수증이 아닌, 직불카드로 소득공제 적용을  받게 됩니다.  서울사랑상품권을 제 3자에게 선물하신 경우에는 결제를 하는 제3자가 소득공제를 받으실 수 있습니다.\n",
      "\n",
      "질문: 서울Pay+ 고객입니다. 서울사랑상품권 선물도 가능한가요?\n",
      "답변: 가능합니다. 서울페이+앱에서 '선물하기 기능'을 활용하시면 됩니다. 서울페이+앱에서 '선물하기 기능'을 활용하시면 됩니다. 서울페이+앱에서 '선물하기 기능'을 활용하시면 됩니다.  다만 구매 수단에 따라 선물 가능 여부가 상이합니다.  현금(계좌)및 체크카드(신한)로 서울사랑상품권 구매 시 선물하기 가능하나 신용카드(신한)로 구매시 선물하기가 불가능 합니다.  신용카드로 구매한 서울사랑상품권의 선물하기 기능 제한은 부정유통 방지를 위한 조치이니  양해 부탁드립니다. 또 한  받은 서울사랑상품권을 제3자에게 재선물은 불가하니 참고 바랍니다. \n",
      "\n",
      "질문: 서울Pay+ 고객입니다. 서울사랑상품권을 사용하고 남은 잔액도 선물 가능한가요?\n",
      "답변: 네 가능합니다.   서울사랑상품권 보유잔액 범위 내에서 만원 단위로 선물할 수 있습니다.   단 , 신용카드로 구매한 경우 선물하기가 불가합니다.   체크카드로 구매하신 경우에는 별도 제한없이 선물하기가 가능합니다.\n",
      "\n",
      "질문: 서울Pay+ 고객입니다. 이전에 현금으로 구매한 서울사랑상품권을 구매 취소했는데 계좌에는 언제 입금되나요?\n",
      "답변: 당일에 구매한 경우 구매취소시 즉시 입금되나, 당일에 구매한 서울사랑상품권이 아닌  경우에는 은행영업일 기준으로 D+2일이 소요됩니다.  다만 구매취소를 한 경우 당일구매취소와 상관없이 할인구매한도는 즉시 반영됩니다.\n",
      "\n",
      "질문: 소상공인 사업재기 및 안전한 폐업지원 온라인 신청이 어렵습니다. 도와주실 수 있나요?\n",
      "답변: 서울신용재단  누리집( www.seoulsbdc.or.kr )의 메인페이지 하단 지점안내 를 통해 가까운  영업점을 확인하시고 방문하여 온라인 접수에 대한 도움을 받을 수 있습니다.\n",
      "\n",
      "질문: 서울Pay+, 서울사랑상품권 가맹점입니다 고객이 서울사랑상품권으로 결제한 경우에 어디서 확인하나요?\n",
      "답변: 결제내역 확인방법은 4가지 입니다. 1. 가맹점주 대상 실시간 문자발송 ,  2. 서울페이+ 앱 또는 제로페이 가맹점용 앱,  3. 고객센터 1544-3737, 가맹점 매출조회 ,  4. 서울Pay+ 홈페이지 가맹점 매출조회. 단, 결제취소는 서울페이+앱에서만 가능하니 꼭 설치 부탁드립니다.\n",
      "\n",
      "질문: 서울Pay+, 서울사랑상품권 가맹점입니다 소비자가 결제한 서울사랑상품권 내역에 대해 가맹점주가 어떻게 확인 후 취소할 수 있는지?\n",
      "답변: 민원인이 가맹점주인지 여부 확인 시 가맹점주인 경우   가맹점주도 서울페이플러스앱을 설치하여 승인내역 확인 또는  앱 좌측 상단의 세줄 더보기 창에서 가맹점주 탭으로 이동, 승인내역에서 확인 및 취소 가능 합니다. 가맹점주가 아닌 경우   최초 1회 가맹점주가 서울페이플러스앱을 설치하여 직원요청 및 등록을 하고 승인내역 확인 하거나  앱 좌측 상단의 세줄 더보기 창에서 직원 탭으로 이동하여 결제취소 항목에서 확인 할 수 있습니다.\n",
      "\n",
      "질문: 소상공인 사업재기 및 안전한 폐업지원 사업신청 후 어떻게 수정하나요?\n",
      "답변: 자영업지원센터 누리집( www.seoulsbdc.or.kr ) 접속 후 로그인,  본인 이름부분(우측 상단에 ㅇㅇㅇ님)에 커서를 옮긴 후 마이페이지 클릭,  신청내역 탭 클릭 후 본인 지원이력을 확인하여 수정할 수 있습니다.  자영업지원센터 누리집 공지사항의 홈페이지 사용 안내를 참조하시고,  수정 후 해당내용이  반영 되었는지도 꼭 확인하여 주시기 바랍니다.\n",
      "\n",
      "질문: 소상공인 사업재기 및 안전한 폐업지원 사업은 현재 모집중인 중장년 디지털 전환 지원사업 등 다른 사업과 중복 지원되나요?\n",
      "답변: 2023년 서울시 자영업지원센터 또는 상권지원센터의 비용지원 사업간 중복지원 불가합니다.   비용지원 사업은 중장년 소상공인 디지털 전환 지원사업, 서울형 다시서기 프로젝트 4.0 지원사업,  골목상권 활성화 지원사업 등 입니다.\n",
      "\n",
      "질문: 소상공인 사업재기 및 안전한 폐업지원, 본점과 지점을 모두 운영하는 법인 사업자의 경우 지원 기준이 어떻게 되나요?\n",
      "답변: 본점 사업자 기준(사업자 번호, 사업장 소재지)으로 지원 되며, 본점과 지점 사업자등록증  소재지가 모두 서울이어야 합니다.\n",
      "\n",
      "질문: 소상공인 사업재기 및 안전한 폐업지원 휴업중에도 지원 가능한가요?\n",
      "답변: 국세청 사업자등록상태 조회 상 휴업자로 조회된다면 지원 불가합니다.\n",
      "\n",
      "질문: 소상공인 사업재기 및 안전한 폐업지원 사업, 공동사업자는 1명만 지원 가능한가요?\n",
      "답변: 네, 2명 이상의 공동 사업자의 경우 대표 1명만 지원 가능하며, 다른 사업자의 동의를 위해,  별도 동의 절차가 진행됩니다.\n",
      "\n",
      "질문: 소상공인 사업재기 및 안전한 폐업지원 사업, 여러개의 사업자를 운영하는 경우 1건만 지원 되나요?\n",
      "답변: 네, 2개 이상의 사업자를 운영하는 대표의 경우, 신청인 기준 1개의 사업자로만 신청할 수  있습니다. 법인과 개인사업자의 대표가 동일하면 신청인 기준 1개의 사업자로만 신청가능 합니다.\n",
      "\n",
      "질문: 소상공인 사업재기 및 안전한 폐업지원 사업, 개명하여 본인인증이 안되는 경우 어떻게 하나요?\n",
      "답변: 개명하신 이름으로 본인인증 확인이 되어야 합니다.  핸드폰 본인인증을 거치기 때문에 이용하고 계시는 통신사에 문의하시어 개명된 이름으로  등록되어 있는지 확인하시기 바랍니다.  본인인증이 진행되지 않는 경우, 사업신청을 할 수 없습니다.  \n",
      "\n",
      "질문: 소상공인 사업재기 및 안전한 폐업지원 사업, 무등록 사업자 및 외국인 사업자도 지원받을 수 있나요?\n",
      "답변: 무등록 사업자는 지원이 불가합니다.  외국인 사업자도 사업자등록증과 본인인증 수단(휴대폰 등)을 가지고, 사업 지원대상 조건을  모두 충족하면 지원 가능합니다.\n",
      "\n",
      "질문: 소상공인 사업재기 및 안전한 폐업지원 사업, 사업자등록증상 대표자만 사업신청 가능한가요?\n",
      "답변: 네, 사업자등록증 상 대표자가 본인인증을 통해 직접 신청해야 합니다.\n",
      "\n",
      "질문: 서울Pay+, 서울사랑상품권 가맹점입니다 서울pay+도 새로 가맹해야하나요?\n",
      "답변: 아닙니다.  기존 제로페이·서울사랑상품권 가맹점은 별도 가입절차 없이 서울페이+ 결제가 가능합니다. 결제는 기존에 사용하시는 제로페이 QR코드로 이전과 동일하게 결제할 수 있습니다. POS기(포스기)를 통해 결제하는 경우, 신용 앱카드 혹은 기타 카드 선택 후 결제할 수 있습니다. 가맹신청은 서울페이 고객센터 혹은 서울페이+ 앱을 통해 가능합니다.\n",
      "\n",
      "질문: 서울Pay+, 서울사랑상품권 가맹점입니다 제로페이 QR로 결제가 안되는데 왜 그런가요?\n",
      "답변: 기 존 제로페이·서울사랑상품권 가맹점은 별도 절차없이 서울페이+ 결제가 가능합니다.  다만, 22년에 제로페이에 신규로 가맹하였거나, 새로 제로페이 QR코드를 발급받은 경우에는  결제가 안될 수 있습니다. (현재는 '21.12.31.기준으로 가맹점 정보가 연계되어있습니다.) 위와 같은 가맹점도 이후 가맹점 정보 연계를 통해 결제가 가능하도록 조치할 예정입니다.\n",
      "\n",
      "질문: 서울Pay+, 서울사랑상품권 가맹점입니다 카드 가맹점이 아니지만 기존 서울사랑상품권 가맹점입니다 현재 서울pay+ 앱으로 결제할 경...\n",
      "답변: 2022년 신규 서울페이+ 운영 대행사는 신한카드로 가맹점명, 주소, 계좌 등 기 등록된  신한카드의 가맹점 정보를 활용합니다.  따라서 신한카드 가맹이 안되어있으면 가맹점 정보가 없어 결제가 불가합니다.  먼저 신한은행 영업점   방문을 통해 신한카드 가맹신청 후 고객센터 (1544-3737)로 방문을 통해 신한카드 가맹신청 후 고객센터 (1544-3737)로  서울페이+ 가맹점 등록을 하시거나 서울페이+ 앱을 통해 가맹점 신청을 하실 수 있습니다.   추후 시스템 개발 을 통해 온라인 신청 등 더욱 편리하게 가맹 신청을 할 수 있도록 하겠습니다. \n",
      "\n",
      "질문: 서울Pay+, 서울사랑상품권 가맹점입니다 고객께서 결제하시고 승인내역에서는 조회가 되는데 매출내역에서는 조회가 안되요. 결제가 정상...\n",
      "답변: 네. 승인이 완료되면 정상결제 된 것 입니다. 매출내역은 집계 등 시간이 소요됩니다.\n",
      "\n",
      "질문: 소상공인 사업재기 및 안전한 폐업지원 사업, 소상공인 조건(상시근로자 및 평균매출액)은 어떤 서류로 확인가능하며 어디서 발급하나요?\n",
      "답변: 상시근로자수는  4대보험 가입자명부  상 등재된 종업원 수 기준으로 하며 해당 서류는  4대  사회보험 정보연계센터 사이트에서 발급받으실 수 있습니다.  평균매출액은  부가세과세표준  증명원의 최근 3개년 평균매출액 규모로 산정하며 해당 서류는  홈택스 사이트에서 발급받으실  수 있습니다.  \n",
      "\n",
      "질문: 서울Pay+, 서울사랑상품권 가맹점입니다 서울pay+ 앱으로 결제된 매출은 어느계좌로 언제 입금되나요?\n",
      "답변: 서울페이플러스 운영 대행사가 신한카드이므로 가맹점명, 주소, 계좌 등  기 등록된 신한카드 가맹점 정보를 활용합니다. 이에 따라 서울페이+결제대금은 신한카드  가맹점 계좌로 입금됩니다. 5/10 승인 거래건 5/10 승인 거래건 부터 신한카드 거래대금과 서울페이(서울사랑상품권) 거래대금 분리 입금 - 시행시점: 5월 10일 승인거래건 - 지급시점: 5월 12일 대금지급건 - 통장적요: Pay 신한카드 가맹점번호 단, 우리은행과 경남은행은 '신한 가맹점번호'로 표기될 예정입니다. 5/10부터 분리 입금되는 것이 아닌,  5/10 거래건부터 적용되어 5/12부터 분리입금 서울페이 결제건에 대해 입금이 안된다는 민원 접수 시 아래의 2가지 방안을 안내해주시기  바랍니다.   ① 신한카드 가맹점 계좌에 적요 'Pay 가맹점 번호' 확인  ② 서울페이 앱 가입 후 가맹점 메뉴에 '대금지급내역' 확인\n",
      "\n",
      "질문: 서울Pay+, 서울사랑상품권 가맹점입니다 법인 가맹점의 경우 결제 내역 확인이 가능한지?\n",
      "답변: 가맹점 메뉴내 지점장, 직원 선택 항목이 있어 권한자 등록 후  동일하게  결제내역 확인이 가능합니다.\n",
      "\n",
      "질문: 소상공인 사업재기 및 안전한 폐업지원 사업, 사업장 임대차계약서를 분실한 경우 신청이 불가능한가요?\n",
      "답변: 체결한  점포형 소상공인이기 때문에 임대차계약서가 없는 경우 지원대상 충족여부를  확인할 수  없습니다. 임대인 또는 거래하신 부동산중개사무소에 문의하시어 임대차계약서 사본이 있는지 확인해 보시기 바랍니다.   \n",
      "\n",
      "질문: 서울Pay+, 서울사랑상품권 가맹점입니다 편의점/마트 바코드 리더기로 스캔 시 결제 수단은 무엇인가요?\n",
      "답변: 신용카드(앱카드)를 선택하여 결제 하시면 됩니다.\n",
      "\n",
      "질문: 2023년 소상공인 사업재기 및 안전한 폐업지원 사업은 어떤 사업인가요?\n",
      "답변: 매출 하락, 수익성 감소 등이 지속되어 폐업을 고민하는 점포형 소상공인에게,  전문가 경영  진단을  통해 향후 운영방향에 대한 의사결정을 돕습니다. 진단 결과 에 따라   관 련   분야 컨설팅 및 최대 3백만원 이내(VAT 자부담) 솔루션  이행  비 용 을   지급합니다. \n",
      "\n",
      "질문: 소상공인 사업재기 및 안전한 폐업지원 사업 지원규모가 구체적으로 어떻게 되나요?\n",
      "답변: 연간 2,000개 업체에 지원 예정이며 상반기에 1,500개 업체를 모집하며 하반기에 500개 업체 모집 예정입니다.  접수량이 상반기 지원규모 미달 시 상시접수 및 운영  체계로 변동될 수 있습니다. \n",
      "\n",
      "질문: 소상공인 사업재기 및 안전한 폐업지원 사업, 기폐업자는 지원제외 되나요?\n",
      "답변: 네, 해당 사업은 폐업을 고민중이나 사업을 정상 운영하고 계신 소상공인 대상 지원 사업입니다.  사전에 경영 진단과 컨설팅을 제공함으로써 이에 따른 솔루션을  이행하고 지원하는데 취지가  있는 사업이다 보니, 이미 폐업하신 사업자에  대해서는 경영 진단이 불가하여 제외하게 되었 습니다.\n",
      "\n",
      "질문: 소상공인 사업재기 및 안전한 폐업지원 사업, 기존 '사업정리 및 재기지원 사업'을 받았던 이력이 있어도 지원 가능...\n",
      "답변: 네, 2022년 이전 서울시 자영업지원센터의  사업정리 및 재기지원 사업 을 지원  받은 이력이  있으셔도 신규 창업 후 현재까지 사업을 영위하고 계시다면 금번 지원 사업에 신청하실 수  있습니다.\n",
      "\n",
      "질문: 소상공인 사업재기 및 안전한 폐업지원 사업, 자가 사업장에서 사업을 운영한 경우 지원이 불가능한가요?\n",
      "답변: 네, 지원제외 대상에 해당됩니다.  단, 사업장의 소유주가 가족인 경우 임대차 계약 체결(임차보증금 입금 포함) 및 실제  지급  내역이 객관적인 자료로 확인 가능한 경우에 한해 지원 가능합니다.\n",
      "\n",
      "질문: 소상공인 사업재기 및 안전한 폐업지원 사업, 경영진단은 어떻게 진행되나요?\n",
      "답변: 전문 컨설턴트가 사업장으로 방문하여  대표님과의 면담을 통해 수익-비용 등을 파악하여   현 기업 상태를 진단합니다.   방문 일정은 전문 컨설턴트가 대표님께 개별연락하여 방문가능한 일자를 정합니다. 정확한   진단을 위해 매출자료 등(부가세과세표준증명원, 4대보험 가입자 명부 등) 관련 서류를  사전에  준비해주셔야 합니다.  총 2회 진행되며 진단 후 경영진단 보고서를 받아보실 수 있습니다.  \n",
      "\n",
      "질문: 소상공인 사업재기 및 안전한 폐업지원 사업, 심화 컨설팅은 어떤 내용인가요?\n",
      "답변: 경영진단 결과(한계기업 또는 유지기업)에 따라 심화 컨설팅 분야가 정해집니다.  한계기업은 사업정리 컨설팅을  유지기업은 경영개선 컨설팅을 진행합니다.  사업정리의 경우, 폐업 신고절차, 폐업시 처리해야 할 노무 및 세무, 시설집기 견적산출  등이  있으며, 경영개선분야는홍보·마케팅, 손익관리, 노무 및 세무관리 등의 내용이 있습니다. 신청인의 필요에 따라 최대 2회 (선택) 진행됩니다.\n",
      "\n",
      "질문: 소상공인 사업재기 및 안전한 폐업지원 사업, 솔루션 이행비용이 무엇인가요?\n",
      "답변: 경영진단 결과에 따라 사업정리 또는 경영개선을 위한 솔루션이 제시됩니다. 이러한  솔루션을  이행(폐업 또는 경영개선을 위한 다양한 활동)하는데 소요되는 실비 지원입니다.\n",
      "\n",
      "질문: 소상공인 사업재기 및 안전한 폐업지원 사업, 비용은 언제 어떻게 지급되나요?\n",
      "답변: 한계기업의 경우 경영진단(2회)을 모두 완료하신 후,   유지기업의 경우경영진단(2회)과 심화 컨설팅(1회 이상)을 모두 완료하신 후,   비용지급 가능항목을 확인 및 관련서류를 구비하시어 서울시 자영업지원센터 누리집 에서  신청해주셔야 합니다.  금액은 최대 3백만원 이내 지원항복에 대한 실비(부가세  신청업체  부담)를 지원합니다.  사업정리 비용의 경우  폐업 사실확인 및 항목별 이행완료 확인(점포철거 및 원상 복구의 경우  현장 확인 등)하며 수행업체(철거업체 등) 또는 대표명의 은행 계좌로  지급합니다. \n",
      "\n",
      "질문: 소상공인 사업재기 및 안전한 폐업지원 사업, 사업정리 비용 지급 시 꼭 폐업해야 하나요?\n",
      "답변: 네. 사업정리 비용의 경우, ‘폐업’에 대한 솔루션 이행비용이기 때문에 국세청 휴폐업  조회상  폐업 사실이 확인되어야만 지원가능합니다.\n",
      "\n",
      "질문: 소상공인 사업재기 및 안전한 폐업지원 사업, 불가피한 사유로, 사업자 대표 은행계좌로 지급받기 어려운 경우, 타인계좌로 받을 수 없...\n",
      "답변: 대표자 본인의 계좌인증을 통한 직접신청이 원칙입니다.  다만, 불가피한 사유로 대표자 본인이 요청한 경우, 가족관계증명서로  확인가능한 가족에  한하여, 증빙자료와 동의서류 작성 후 지급 가능합니다.\n",
      "\n"
     ]
    }
   ],
   "source": [
    "import requests\n",
    "from bs4 import BeautifulSoup\n",
    "\n",
    "headers = {\n",
    "    \"User-Agent\": \"Mozilla/5.0 (Windows NT 10.0; Win64; x64) AppleWebKit/537.36 (KHTML, like Gecko) Chrome/58.0.3029.110 Safari/537.3\"\n",
    "}\n",
    "\n",
    "def get_question_and_answer(url):\n",
    "    response = requests.get(url, headers=headers)\n",
    "    content = response.text\n",
    "\n",
    "    soup = BeautifulSoup(content, \"html.parser\")\n",
    "\n",
    "    question_element = soup.find(\"h3\", class_=\"title-article\")\n",
    "    if question_element:\n",
    "        question = question_element.get_text().replace('[대시민용]', '').strip()\n",
    "    else:\n",
    "        question = \"질문을 찾을 수 없습니다.\"\n",
    "\n",
    "    answer_element = soup.select(\"div.line-all p span\")\n",
    "    if answer_element:\n",
    "        answer = ' '.join([elem.get_text() for elem in answer_element])\n",
    "    else:\n",
    "        answer = \"답변을 찾을 수 없습니다.\"\n",
    "\n",
    "    return question, answer\n",
    "\n",
    "base_url = 'https://opengov.seoul.go.kr/civilappeal/'\n",
    "start = 28190528\n",
    "end = 28190602\n",
    "\n",
    "urls = [f\"{base_url}{i}\" for i in range(start, end + 1)]\n",
    "\n",
    "for url in urls:\n",
    "    question, answer = get_question_and_answer(url)\n",
    "    print(f\"질문: {question}\")\n",
    "    print(f\"답변: {answer}\\n\")"
   ]
  },
  {
   "cell_type": "code",
   "execution_count": 17,
   "metadata": {},
   "outputs": [],
   "source": [
    "with open('questions.txt', 'w', encoding='utf-8') as q_file, open('answers.txt', 'w', encoding='utf-8') as a_file:\n",
    "    for url in urls:\n",
    "        question, answer = get_question_and_answer(url)\n",
    "        q_file.write(question + '\\n')\n",
    "        a_file.write(answer + '\\n')\n"
   ]
  },
  {
   "cell_type": "code",
   "execution_count": 18,
   "metadata": {},
   "outputs": [
    {
     "name": "stdout",
     "output_type": "stream",
     "text": [
      "Requirement already satisfied: torch in c:\\users\\00\\appdata\\local\\programs\\python\\python310\\lib\\site-packages (2.0.0)\n",
      "Requirement already satisfied: filelock in c:\\users\\00\\appdata\\local\\programs\\python\\python310\\lib\\site-packages (from torch) (3.12.0)\n",
      "Requirement already satisfied: networkx in c:\\users\\00\\appdata\\local\\programs\\python\\python310\\lib\\site-packages (from torch) (3.1)\n",
      "Requirement already satisfied: jinja2 in c:\\users\\00\\appdata\\local\\programs\\python\\python310\\lib\\site-packages (from torch) (3.1.2)\n",
      "Requirement already satisfied: typing-extensions in c:\\users\\00\\appdata\\local\\programs\\python\\python310\\lib\\site-packages (from torch) (4.5.0)\n",
      "Requirement already satisfied: sympy in c:\\users\\00\\appdata\\local\\programs\\python\\python310\\lib\\site-packages (from torch) (1.11.1)\n",
      "Requirement already satisfied: MarkupSafe>=2.0 in c:\\users\\00\\appdata\\local\\programs\\python\\python310\\lib\\site-packages (from jinja2->torch) (2.1.2)\n",
      "Requirement already satisfied: mpmath>=0.19 in c:\\users\\00\\appdata\\local\\programs\\python\\python310\\lib\\site-packages (from sympy->torch) (1.3.0)\n"
     ]
    },
    {
     "name": "stderr",
     "output_type": "stream",
     "text": [
      "WARNING: You are using pip version 21.2.4; however, version 23.1.2 is available.\n",
      "You should consider upgrading via the 'C:\\Users\\00\\AppData\\Local\\Programs\\Python\\Python310\\python.exe -m pip install --upgrade pip' command.\n"
     ]
    },
    {
     "name": "stdout",
     "output_type": "stream",
     "text": [
      "Requirement already satisfied: spacy in c:\\users\\00\\appdata\\local\\programs\\python\\python310\\lib\\site-packages (3.5.2)\n",
      "Requirement already satisfied: preshed<3.1.0,>=3.0.2 in c:\\users\\00\\appdata\\local\\programs\\python\\python310\\lib\\site-packages (from spacy) (3.0.8)\n",
      "Requirement already satisfied: thinc<8.2.0,>=8.1.8 in c:\\users\\00\\appdata\\local\\programs\\python\\python310\\lib\\site-packages (from spacy) (8.1.9)\n",
      "Requirement already satisfied: jinja2 in c:\\users\\00\\appdata\\local\\programs\\python\\python310\\lib\\site-packages (from spacy) (3.1.2)\n",
      "Requirement already satisfied: catalogue<2.1.0,>=2.0.6 in c:\\users\\00\\appdata\\local\\programs\\python\\python310\\lib\\site-packages (from spacy) (2.0.8)\n",
      "Requirement already satisfied: murmurhash<1.1.0,>=0.28.0 in c:\\users\\00\\appdata\\local\\programs\\python\\python310\\lib\\site-packages (from spacy) (1.0.9)\n",
      "Requirement already satisfied: pydantic!=1.8,!=1.8.1,<1.11.0,>=1.7.4 in c:\\users\\00\\appdata\\local\\programs\\python\\python310\\lib\\site-packages (from spacy) (1.10.7)\n",
      "Requirement already satisfied: wasabi<1.2.0,>=0.9.1 in c:\\users\\00\\appdata\\local\\programs\\python\\python310\\lib\\site-packages (from spacy) (1.1.1)\n",
      "Requirement already satisfied: tqdm<5.0.0,>=4.38.0 in c:\\users\\00\\appdata\\local\\programs\\python\\python310\\lib\\site-packages (from spacy) (4.65.0)\n",
      "Requirement already satisfied: pathy>=0.10.0 in c:\\users\\00\\appdata\\local\\programs\\python\\python310\\lib\\site-packages (from spacy) (0.10.1)\n",
      "Requirement already satisfied: langcodes<4.0.0,>=3.2.0 in c:\\users\\00\\appdata\\local\\programs\\python\\python310\\lib\\site-packages (from spacy) (3.3.0)\n",
      "Requirement already satisfied: requests<3.0.0,>=2.13.0 in c:\\users\\00\\appdata\\local\\programs\\python\\python310\\lib\\site-packages (from spacy) (2.29.0)\n",
      "Requirement already satisfied: spacy-legacy<3.1.0,>=3.0.11 in c:\\users\\00\\appdata\\local\\programs\\python\\python310\\lib\\site-packages (from spacy) (3.0.12)\n",
      "Requirement already satisfied: packaging>=20.0 in c:\\users\\00\\appdata\\roaming\\python\\python310\\site-packages (from spacy) (23.1)\n",
      "Requirement already satisfied: cymem<2.1.0,>=2.0.2 in c:\\users\\00\\appdata\\local\\programs\\python\\python310\\lib\\site-packages (from spacy) (2.0.7)\n",
      "Requirement already satisfied: typer<0.8.0,>=0.3.0 in c:\\users\\00\\appdata\\local\\programs\\python\\python310\\lib\\site-packages (from spacy) (0.7.0)\n",
      "Requirement already satisfied: srsly<3.0.0,>=2.4.3 in c:\\users\\00\\appdata\\local\\programs\\python\\python310\\lib\\site-packages (from spacy) (2.4.6)\n",
      "Requirement already satisfied: spacy-loggers<2.0.0,>=1.0.0 in c:\\users\\00\\appdata\\local\\programs\\python\\python310\\lib\\site-packages (from spacy) (1.0.4)\n",
      "Requirement already satisfied: numpy>=1.15.0 in c:\\users\\00\\appdata\\local\\programs\\python\\python310\\lib\\site-packages (from spacy) (1.24.3)\n",
      "Requirement already satisfied: setuptools in c:\\users\\00\\appdata\\local\\programs\\python\\python310\\lib\\site-packages (from spacy) (58.1.0)\n",
      "Requirement already satisfied: smart-open<7.0.0,>=5.2.1 in c:\\users\\00\\appdata\\local\\programs\\python\\python310\\lib\\site-packages (from spacy) (6.3.0)\n",
      "Requirement already satisfied: typing-extensions>=4.2.0 in c:\\users\\00\\appdata\\local\\programs\\python\\python310\\lib\\site-packages (from pydantic!=1.8,!=1.8.1,<1.11.0,>=1.7.4->spacy) (4.5.0)\n",
      "Requirement already satisfied: urllib3<1.27,>=1.21.1 in c:\\users\\00\\appdata\\local\\programs\\python\\python310\\lib\\site-packages (from requests<3.0.0,>=2.13.0->spacy) (1.26.15)\n",
      "Requirement already satisfied: charset-normalizer<4,>=2 in c:\\users\\00\\appdata\\local\\programs\\python\\python310\\lib\\site-packages (from requests<3.0.0,>=2.13.0->spacy) (3.1.0)\n",
      "Requirement already satisfied: certifi>=2017.4.17 in c:\\users\\00\\appdata\\local\\programs\\python\\python310\\lib\\site-packages (from requests<3.0.0,>=2.13.0->spacy) (2022.12.7)\n",
      "Requirement already satisfied: idna<4,>=2.5 in c:\\users\\00\\appdata\\local\\programs\\python\\python310\\lib\\site-packages (from requests<3.0.0,>=2.13.0->spacy) (3.4)\n",
      "Requirement already satisfied: blis<0.8.0,>=0.7.8 in c:\\users\\00\\appdata\\local\\programs\\python\\python310\\lib\\site-packages (from thinc<8.2.0,>=8.1.8->spacy) (0.7.9)\n",
      "Requirement already satisfied: confection<1.0.0,>=0.0.1 in c:\\users\\00\\appdata\\local\\programs\\python\\python310\\lib\\site-packages (from thinc<8.2.0,>=8.1.8->spacy) (0.0.4)\n",
      "Requirement already satisfied: colorama in c:\\users\\00\\appdata\\roaming\\python\\python310\\site-packages (from tqdm<5.0.0,>=4.38.0->spacy) (0.4.6)\n",
      "Requirement already satisfied: click<9.0.0,>=7.1.1 in c:\\users\\00\\appdata\\local\\programs\\python\\python310\\lib\\site-packages (from typer<0.8.0,>=0.3.0->spacy) (8.1.3)\n",
      "Requirement already satisfied: MarkupSafe>=2.0 in c:\\users\\00\\appdata\\local\\programs\\python\\python310\\lib\\site-packages (from jinja2->spacy) (2.1.2)\n"
     ]
    },
    {
     "name": "stderr",
     "output_type": "stream",
     "text": [
      "WARNING: You are using pip version 21.2.4; however, version 23.1.2 is available.\n",
      "You should consider upgrading via the 'C:\\Users\\00\\AppData\\Local\\Programs\\Python\\Python310\\python.exe -m pip install --upgrade pip' command.\n"
     ]
    },
    {
     "name": "stdout",
     "output_type": "stream",
     "text": [
      "Requirement already satisfied: numpy in c:\\users\\00\\appdata\\local\\programs\\python\\python310\\lib\\site-packages (1.24.3)\n"
     ]
    },
    {
     "name": "stderr",
     "output_type": "stream",
     "text": [
      "WARNING: You are using pip version 21.2.4; however, version 23.1.2 is available.\n",
      "You should consider upgrading via the 'C:\\Users\\00\\AppData\\Local\\Programs\\Python\\Python310\\python.exe -m pip install --upgrade pip' command.\n"
     ]
    },
    {
     "name": "stdout",
     "output_type": "stream",
     "text": [
      "Requirement already satisfied: tqdm in c:\\users\\00\\appdata\\local\\programs\\python\\python310\\lib\\site-packages (4.65.0)\n",
      "Requirement already satisfied: colorama in c:\\users\\00\\appdata\\roaming\\python\\python310\\site-packages (from tqdm) (0.4.6)\n"
     ]
    },
    {
     "name": "stderr",
     "output_type": "stream",
     "text": [
      "WARNING: You are using pip version 21.2.4; however, version 23.1.2 is available.\n",
      "You should consider upgrading via the 'C:\\Users\\00\\AppData\\Local\\Programs\\Python\\Python310\\python.exe -m pip install --upgrade pip' command.\n"
     ]
    },
    {
     "name": "stdout",
     "output_type": "stream",
     "text": [
      "Requirement already satisfied: pandas in c:\\users\\00\\appdata\\local\\programs\\python\\python310\\lib\\site-packages (2.0.1)\n",
      "Requirement already satisfied: python-dateutil>=2.8.2 in c:\\users\\00\\appdata\\roaming\\python\\python310\\site-packages (from pandas) (2.8.2)\n",
      "Requirement already satisfied: tzdata>=2022.1 in c:\\users\\00\\appdata\\local\\programs\\python\\python310\\lib\\site-packages (from pandas) (2023.3)\n",
      "Requirement already satisfied: pytz>=2020.1 in c:\\users\\00\\appdata\\local\\programs\\python\\python310\\lib\\site-packages (from pandas) (2023.3)\n",
      "Requirement already satisfied: numpy>=1.21.0 in c:\\users\\00\\appdata\\local\\programs\\python\\python310\\lib\\site-packages (from pandas) (1.24.3)\n",
      "Requirement already satisfied: six>=1.5 in c:\\users\\00\\appdata\\roaming\\python\\python310\\site-packages (from python-dateutil>=2.8.2->pandas) (1.16.0)\n"
     ]
    },
    {
     "name": "stderr",
     "output_type": "stream",
     "text": [
      "WARNING: You are using pip version 21.2.4; however, version 23.1.2 is available.\n",
      "You should consider upgrading via the 'C:\\Users\\00\\AppData\\Local\\Programs\\Python\\Python310\\python.exe -m pip install --upgrade pip' command.\n"
     ]
    }
   ],
   "source": [
    "\n",
    "!pip install torch\n",
    "!pip install spacy\n",
    "!pip install numpy\n",
    "!pip install tqdm\n",
    "!pip install pandas\n"
   ]
  },
  {
   "cell_type": "code",
   "execution_count": 19,
   "metadata": {},
   "outputs": [],
   "source": [
    "import torch\n",
    "import torch.nn as nn\n",
    "import torch.optim as optim\n",
    "import torchtext\n",
    "from torchtext.data import Field, BucketIterator, TabularDataset\n",
    "import spacy\n",
    "import numpy as np\n",
    "import random\n",
    "import math\n",
    "import time\n",
    "import os\n",
    "import pandas as pd\n",
    "import re\n",
    "import torch \n",
    "import sentencepiece as spm\n",
    "import sys\n",
    "from tqdm import tqdm\n",
    "from torch.nn import Transformer\n",
    "from torch import nn\n",
    "import math\n",
    "from torch.utils.data import Dataset, DataLoader"
   ]
  },
  {
   "cell_type": "code",
   "execution_count": 21,
   "metadata": {},
   "outputs": [
    {
     "name": "stdout",
     "output_type": "stream",
     "text": [
      "Requirement already satisfied: spacy in c:\\users\\00\\appdata\\local\\programs\\python\\python310\\lib\\site-packages (3.5.2)\n",
      "Requirement already satisfied: jinja2 in c:\\users\\00\\appdata\\local\\programs\\python\\python310\\lib\\site-packages (from spacy) (3.1.2)\n",
      "Requirement already satisfied: preshed<3.1.0,>=3.0.2 in c:\\users\\00\\appdata\\local\\programs\\python\\python310\\lib\\site-packages (from spacy) (3.0.8)\n",
      "Requirement already satisfied: setuptools in c:\\users\\00\\appdata\\local\\programs\\python\\python310\\lib\\site-packages (from spacy) (58.1.0)\n",
      "Requirement already satisfied: numpy>=1.15.0 in c:\\users\\00\\appdata\\local\\programs\\python\\python310\\lib\\site-packages (from spacy) (1.24.3)\n",
      "Requirement already satisfied: catalogue<2.1.0,>=2.0.6 in c:\\users\\00\\appdata\\local\\programs\\python\\python310\\lib\\site-packages (from spacy) (2.0.8)\n",
      "Requirement already satisfied: typer<0.8.0,>=0.3.0 in c:\\users\\00\\appdata\\local\\programs\\python\\python310\\lib\\site-packages (from spacy) (0.7.0)\n",
      "Requirement already satisfied: packaging>=20.0 in c:\\users\\00\\appdata\\roaming\\python\\python310\\site-packages (from spacy) (23.1)\n",
      "Requirement already satisfied: thinc<8.2.0,>=8.1.8 in c:\\users\\00\\appdata\\local\\programs\\python\\python310\\lib\\site-packages (from spacy) (8.1.9)\n",
      "Requirement already satisfied: pathy>=0.10.0 in c:\\users\\00\\appdata\\local\\programs\\python\\python310\\lib\\site-packages (from spacy) (0.10.1)\n",
      "Requirement already satisfied: requests<3.0.0,>=2.13.0 in c:\\users\\00\\appdata\\local\\programs\\python\\python310\\lib\\site-packages (from spacy) (2.29.0)\n",
      "Requirement already satisfied: langcodes<4.0.0,>=3.2.0 in c:\\users\\00\\appdata\\local\\programs\\python\\python310\\lib\\site-packages (from spacy) (3.3.0)\n",
      "Requirement already satisfied: tqdm<5.0.0,>=4.38.0 in c:\\users\\00\\appdata\\local\\programs\\python\\python310\\lib\\site-packages (from spacy) (4.65.0)\n",
      "Requirement already satisfied: cymem<2.1.0,>=2.0.2 in c:\\users\\00\\appdata\\local\\programs\\python\\python310\\lib\\site-packages (from spacy) (2.0.7)\n",
      "Requirement already satisfied: smart-open<7.0.0,>=5.2.1 in c:\\users\\00\\appdata\\local\\programs\\python\\python310\\lib\\site-packages (from spacy) (6.3.0)\n",
      "Requirement already satisfied: wasabi<1.2.0,>=0.9.1 in c:\\users\\00\\appdata\\local\\programs\\python\\python310\\lib\\site-packages (from spacy) (1.1.1)\n",
      "Requirement already satisfied: pydantic!=1.8,!=1.8.1,<1.11.0,>=1.7.4 in c:\\users\\00\\appdata\\local\\programs\\python\\python310\\lib\\site-packages (from spacy) (1.10.7)\n",
      "Requirement already satisfied: spacy-loggers<2.0.0,>=1.0.0 in c:\\users\\00\\appdata\\local\\programs\\python\\python310\\lib\\site-packages (from spacy) (1.0.4)\n",
      "Requirement already satisfied: spacy-legacy<3.1.0,>=3.0.11 in c:\\users\\00\\appdata\\local\\programs\\python\\python310\\lib\\site-packages (from spacy) (3.0.12)\n",
      "Requirement already satisfied: srsly<3.0.0,>=2.4.3 in c:\\users\\00\\appdata\\local\\programs\\python\\python310\\lib\\site-packages (from spacy) (2.4.6)\n",
      "Requirement already satisfied: murmurhash<1.1.0,>=0.28.0 in c:\\users\\00\\appdata\\local\\programs\\python\\python310\\lib\\site-packages (from spacy) (1.0.9)\n",
      "Requirement already satisfied: typing-extensions>=4.2.0 in c:\\users\\00\\appdata\\local\\programs\\python\\python310\\lib\\site-packages (from pydantic!=1.8,!=1.8.1,<1.11.0,>=1.7.4->spacy) (4.5.0)\n",
      "Requirement already satisfied: urllib3<1.27,>=1.21.1 in c:\\users\\00\\appdata\\local\\programs\\python\\python310\\lib\\site-packages (from requests<3.0.0,>=2.13.0->spacy) (1.26.15)\n",
      "Requirement already satisfied: idna<4,>=2.5 in c:\\users\\00\\appdata\\local\\programs\\python\\python310\\lib\\site-packages (from requests<3.0.0,>=2.13.0->spacy) (3.4)\n",
      "Requirement already satisfied: charset-normalizer<4,>=2 in c:\\users\\00\\appdata\\local\\programs\\python\\python310\\lib\\site-packages (from requests<3.0.0,>=2.13.0->spacy) (3.1.0)\n",
      "Requirement already satisfied: certifi>=2017.4.17 in c:\\users\\00\\appdata\\local\\programs\\python\\python310\\lib\\site-packages (from requests<3.0.0,>=2.13.0->spacy) (2022.12.7)\n",
      "Requirement already satisfied: confection<1.0.0,>=0.0.1 in c:\\users\\00\\appdata\\local\\programs\\python\\python310\\lib\\site-packages (from thinc<8.2.0,>=8.1.8->spacy) (0.0.4)\n",
      "Requirement already satisfied: blis<0.8.0,>=0.7.8 in c:\\users\\00\\appdata\\local\\programs\\python\\python310\\lib\\site-packages (from thinc<8.2.0,>=8.1.8->spacy) (0.7.9)\n",
      "Requirement already satisfied: colorama in c:\\users\\00\\appdata\\roaming\\python\\python310\\site-packages (from tqdm<5.0.0,>=4.38.0->spacy) (0.4.6)\n",
      "Requirement already satisfied: click<9.0.0,>=7.1.1 in c:\\users\\00\\appdata\\local\\programs\\python\\python310\\lib\\site-packages (from typer<0.8.0,>=0.3.0->spacy) (8.1.3)\n",
      "Requirement already satisfied: MarkupSafe>=2.0 in c:\\users\\00\\appdata\\local\\programs\\python\\python310\\lib\\site-packages (from jinja2->spacy) (2.1.2)\n"
     ]
    },
    {
     "name": "stderr",
     "output_type": "stream",
     "text": [
      "WARNING: You are using pip version 21.2.4; however, version 23.1.2 is available.\n",
      "You should consider upgrading via the 'C:\\Users\\00\\AppData\\Local\\Programs\\Python\\Python310\\python.exe -m pip install --upgrade pip' command.\n"
     ]
    },
    {
     "name": "stdout",
     "output_type": "stream",
     "text": [
      "Collecting en-core-web-sm==3.5.0\n",
      "  Downloading https://github.com/explosion/spacy-models/releases/download/en_core_web_sm-3.5.0/en_core_web_sm-3.5.0-py3-none-any.whl (12.8 MB)\n",
      "Requirement already satisfied: spacy<3.6.0,>=3.5.0 in c:\\users\\00\\appdata\\local\\programs\\python\\python310\\lib\\site-packages (from en-core-web-sm==3.5.0) (3.5.2)\n",
      "Requirement already satisfied: pathy>=0.10.0 in c:\\users\\00\\appdata\\local\\programs\\python\\python310\\lib\\site-packages (from spacy<3.6.0,>=3.5.0->en-core-web-sm==3.5.0) (0.10.1)\n",
      "Requirement already satisfied: typer<0.8.0,>=0.3.0 in c:\\users\\00\\appdata\\local\\programs\\python\\python310\\lib\\site-packages (from spacy<3.6.0,>=3.5.0->en-core-web-sm==3.5.0) (0.7.0)\n",
      "Requirement already satisfied: numpy>=1.15.0 in c:\\users\\00\\appdata\\local\\programs\\python\\python310\\lib\\site-packages (from spacy<3.6.0,>=3.5.0->en-core-web-sm==3.5.0) (1.24.3)\n",
      "Requirement already satisfied: requests<3.0.0,>=2.13.0 in c:\\users\\00\\appdata\\local\\programs\\python\\python310\\lib\\site-packages (from spacy<3.6.0,>=3.5.0->en-core-web-sm==3.5.0) (2.29.0)\n",
      "Requirement already satisfied: srsly<3.0.0,>=2.4.3 in c:\\users\\00\\appdata\\local\\programs\\python\\python310\\lib\\site-packages (from spacy<3.6.0,>=3.5.0->en-core-web-sm==3.5.0) (2.4.6)\n",
      "Requirement already satisfied: pydantic!=1.8,!=1.8.1,<1.11.0,>=1.7.4 in c:\\users\\00\\appdata\\local\\programs\\python\\python310\\lib\\site-packages (from spacy<3.6.0,>=3.5.0->en-core-web-sm==3.5.0) (1.10.7)\n",
      "Requirement already satisfied: preshed<3.1.0,>=3.0.2 in c:\\users\\00\\appdata\\local\\programs\\python\\python310\\lib\\site-packages (from spacy<3.6.0,>=3.5.0->en-core-web-sm==3.5.0) (3.0.8)\n",
      "Requirement already satisfied: setuptools in c:\\users\\00\\appdata\\local\\programs\\python\\python310\\lib\\site-packages (from spacy<3.6.0,>=3.5.0->en-core-web-sm==3.5.0) (58.1.0)\n",
      "Requirement already satisfied: catalogue<2.1.0,>=2.0.6 in c:\\users\\00\\appdata\\local\\programs\\python\\python310\\lib\\site-packages (from spacy<3.6.0,>=3.5.0->en-core-web-sm==3.5.0) (2.0.8)\n",
      "Requirement already satisfied: murmurhash<1.1.0,>=0.28.0 in c:\\users\\00\\appdata\\local\\programs\\python\\python310\\lib\\site-packages (from spacy<3.6.0,>=3.5.0->en-core-web-sm==3.5.0) (1.0.9)\n",
      "Requirement already satisfied: smart-open<7.0.0,>=5.2.1 in c:\\users\\00\\appdata\\local\\programs\\python\\python310\\lib\\site-packages (from spacy<3.6.0,>=3.5.0->en-core-web-sm==3.5.0) (6.3.0)\n",
      "Requirement already satisfied: spacy-legacy<3.1.0,>=3.0.11 in c:\\users\\00\\appdata\\local\\programs\\python\\python310\\lib\\site-packages (from spacy<3.6.0,>=3.5.0->en-core-web-sm==3.5.0) (3.0.12)\n",
      "Requirement already satisfied: jinja2 in c:\\users\\00\\appdata\\local\\programs\\python\\python310\\lib\\site-packages (from spacy<3.6.0,>=3.5.0->en-core-web-sm==3.5.0) (3.1.2)\n",
      "Requirement already satisfied: packaging>=20.0 in c:\\users\\00\\appdata\\roaming\\python\\python310\\site-packages (from spacy<3.6.0,>=3.5.0->en-core-web-sm==3.5.0) (23.1)\n",
      "Requirement already satisfied: spacy-loggers<2.0.0,>=1.0.0 in c:\\users\\00\\appdata\\local\\programs\\python\\python310\\lib\\site-packages (from spacy<3.6.0,>=3.5.0->en-core-web-sm==3.5.0) (1.0.4)\n",
      "Requirement already satisfied: thinc<8.2.0,>=8.1.8 in c:\\users\\00\\appdata\\local\\programs\\python\\python310\\lib\\site-packages (from spacy<3.6.0,>=3.5.0->en-core-web-sm==3.5.0) (8.1.9)\n",
      "Requirement already satisfied: wasabi<1.2.0,>=0.9.1 in c:\\users\\00\\appdata\\local\\programs\\python\\python310\\lib\\site-packages (from spacy<3.6.0,>=3.5.0->en-core-web-sm==3.5.0) (1.1.1)\n",
      "Requirement already satisfied: langcodes<4.0.0,>=3.2.0 in c:\\users\\00\\appdata\\local\\programs\\python\\python310\\lib\\site-packages (from spacy<3.6.0,>=3.5.0->en-core-web-sm==3.5.0) (3.3.0)\n",
      "Requirement already satisfied: tqdm<5.0.0,>=4.38.0 in c:\\users\\00\\appdata\\local\\programs\\python\\python310\\lib\\site-packages (from spacy<3.6.0,>=3.5.0->en-core-web-sm==3.5.0) (4.65.0)\n",
      "Requirement already satisfied: cymem<2.1.0,>=2.0.2 in c:\\users\\00\\appdata\\local\\programs\\python\\python310\\lib\\site-packages (from spacy<3.6.0,>=3.5.0->en-core-web-sm==3.5.0) (2.0.7)\n",
      "Requirement already satisfied: typing-extensions>=4.2.0 in c:\\users\\00\\appdata\\local\\programs\\python\\python310\\lib\\site-packages (from pydantic!=1.8,!=1.8.1,<1.11.0,>=1.7.4->spacy<3.6.0,>=3.5.0->en-core-web-sm==3.5.0) (4.5.0)\n",
      "Requirement already satisfied: urllib3<1.27,>=1.21.1 in c:\\users\\00\\appdata\\local\\programs\\python\\python310\\lib\\site-packages (from requests<3.0.0,>=2.13.0->spacy<3.6.0,>=3.5.0->en-core-web-sm==3.5.0) (1.26.15)\n",
      "Requirement already satisfied: certifi>=2017.4.17 in c:\\users\\00\\appdata\\local\\programs\\python\\python310\\lib\\site-packages (from requests<3.0.0,>=2.13.0->spacy<3.6.0,>=3.5.0->en-core-web-sm==3.5.0) (2022.12.7)\n",
      "Requirement already satisfied: charset-normalizer<4,>=2 in c:\\users\\00\\appdata\\local\\programs\\python\\python310\\lib\\site-packages (from requests<3.0.0,>=2.13.0->spacy<3.6.0,>=3.5.0->en-core-web-sm==3.5.0) (3.1.0)\n",
      "Requirement already satisfied: idna<4,>=2.5 in c:\\users\\00\\appdata\\local\\programs\\python\\python310\\lib\\site-packages (from requests<3.0.0,>=2.13.0->spacy<3.6.0,>=3.5.0->en-core-web-sm==3.5.0) (3.4)\n",
      "Requirement already satisfied: blis<0.8.0,>=0.7.8 in c:\\users\\00\\appdata\\local\\programs\\python\\python310\\lib\\site-packages (from thinc<8.2.0,>=8.1.8->spacy<3.6.0,>=3.5.0->en-core-web-sm==3.5.0) (0.7.9)\n",
      "Requirement already satisfied: confection<1.0.0,>=0.0.1 in c:\\users\\00\\appdata\\local\\programs\\python\\python310\\lib\\site-packages (from thinc<8.2.0,>=8.1.8->spacy<3.6.0,>=3.5.0->en-core-web-sm==3.5.0) (0.0.4)\n",
      "Requirement already satisfied: colorama in c:\\users\\00\\appdata\\roaming\\python\\python310\\site-packages (from tqdm<5.0.0,>=4.38.0->spacy<3.6.0,>=3.5.0->en-core-web-sm==3.5.0) (0.4.6)\n",
      "Requirement already satisfied: click<9.0.0,>=7.1.1 in c:\\users\\00\\appdata\\local\\programs\\python\\python310\\lib\\site-packages (from typer<0.8.0,>=0.3.0->spacy<3.6.0,>=3.5.0->en-core-web-sm==3.5.0) (8.1.3)\n",
      "Requirement already satisfied: MarkupSafe>=2.0 in c:\\users\\00\\appdata\\local\\programs\\python\\python310\\lib\\site-packages (from jinja2->spacy<3.6.0,>=3.5.0->en-core-web-sm==3.5.0) (2.1.2)\n",
      "Installing collected packages: en-core-web-sm\n",
      "Successfully installed en-core-web-sm-3.5.0\n",
      "\u001b[38;5;2m✔ Download and installation successful\u001b[0m\n",
      "You can now load the package via spacy.load('en_core_web_sm')\n"
     ]
    },
    {
     "name": "stderr",
     "output_type": "stream",
     "text": [
      "WARNING: You are using pip version 21.2.4; however, version 23.1.2 is available.\n",
      "You should consider upgrading via the 'c:\\Users\\00\\AppData\\Local\\Programs\\Python\\Python310\\python.exe -m pip install --upgrade pip' command.\n"
     ]
    }
   ],
   "source": [
    "!pip install spacy\n",
    "!python -m spacy download en_core_web_sm"
   ]
  },
  {
   "cell_type": "code",
   "execution_count": 30,
   "metadata": {},
   "outputs": [],
   "source": [
    "def tokenize(text):\n",
    "    return [tok.text for tok in spacy_en.tokenizer(text)]\n",
    "\n",
    "spacy_en = spacy.load(\"en_core_web_sm\")\n",
    "\n",
    "SRC = Field(tokenize=tokenize,\n",
    "            init_token='<sos>',\n",
    "            eos_token='<eos>',\n",
    "            lower=True)\n",
    "\n",
    "TRG = Field(tokenize=tokenize,\n",
    "            init_token='<sos>',\n",
    "            eos_token='<eos>',\n",
    "            lower=True)\n",
    "\n",
    "fields = [('src', SRC), ('trg', TRG)]\n"
   ]
  },
  {
   "cell_type": "code",
   "execution_count": 31,
   "metadata": {},
   "outputs": [],
   "source": [
    "# 질문과 답변 텍스트 파일을 읽어들입니다.\n",
    "with open('questions.txt', 'r', encoding='utf-8') as q_file, open('answers.txt', 'r', encoding='utf-8') as a_file:\n",
    "    questions = [line.strip() for line in q_file.readlines()]\n",
    "    answers = [line.strip() for line in a_file.readlines()]"
   ]
  },
  {
   "cell_type": "code",
   "execution_count": 32,
   "metadata": {},
   "outputs": [
    {
     "name": "stdout",
     "output_type": "stream",
     "text": [
      "Requirement already satisfied: torchtext in c:\\users\\00\\appdata\\local\\programs\\python\\python310\\lib\\site-packages (0.15.1)\n",
      "Requirement already satisfied: numpy in c:\\users\\00\\appdata\\local\\programs\\python\\python310\\lib\\site-packages (from torchtext) (1.24.3)\n",
      "Requirement already satisfied: requests in c:\\users\\00\\appdata\\local\\programs\\python\\python310\\lib\\site-packages (from torchtext) (2.29.0)\n",
      "Requirement already satisfied: tqdm in c:\\users\\00\\appdata\\local\\programs\\python\\python310\\lib\\site-packages (from torchtext) (4.65.0)\n",
      "Requirement already satisfied: torch==2.0.0 in c:\\users\\00\\appdata\\local\\programs\\python\\python310\\lib\\site-packages (from torchtext) (2.0.0)\n",
      "Requirement already satisfied: torchdata==0.6.0 in c:\\users\\00\\appdata\\local\\programs\\python\\python310\\lib\\site-packages (from torchtext) (0.6.0)\n",
      "Requirement already satisfied: jinja2 in c:\\users\\00\\appdata\\local\\programs\\python\\python310\\lib\\site-packages (from torch==2.0.0->torchtext) (3.1.2)\n",
      "Requirement already satisfied: filelock in c:\\users\\00\\appdata\\local\\programs\\python\\python310\\lib\\site-packages (from torch==2.0.0->torchtext) (3.12.0)\n",
      "Requirement already satisfied: typing-extensions in c:\\users\\00\\appdata\\local\\programs\\python\\python310\\lib\\site-packages (from torch==2.0.0->torchtext) (4.5.0)\n",
      "Requirement already satisfied: sympy in c:\\users\\00\\appdata\\local\\programs\\python\\python310\\lib\\site-packages (from torch==2.0.0->torchtext) (1.11.1)\n",
      "Requirement already satisfied: networkx in c:\\users\\00\\appdata\\local\\programs\\python\\python310\\lib\\site-packages (from torch==2.0.0->torchtext) (3.1)\n",
      "Requirement already satisfied: urllib3>=1.25 in c:\\users\\00\\appdata\\local\\programs\\python\\python310\\lib\\site-packages (from torchdata==0.6.0->torchtext) (1.26.15)\n",
      "Requirement already satisfied: MarkupSafe>=2.0 in c:\\users\\00\\appdata\\local\\programs\\python\\python310\\lib\\site-packages (from jinja2->torch==2.0.0->torchtext) (2.1.2)\n",
      "Requirement already satisfied: certifi>=2017.4.17 in c:\\users\\00\\appdata\\local\\programs\\python\\python310\\lib\\site-packages (from requests->torchtext) (2022.12.7)\n",
      "Requirement already satisfied: charset-normalizer<4,>=2 in c:\\users\\00\\appdata\\local\\programs\\python\\python310\\lib\\site-packages (from requests->torchtext) (3.1.0)\n",
      "Requirement already satisfied: idna<4,>=2.5 in c:\\users\\00\\appdata\\local\\programs\\python\\python310\\lib\\site-packages (from requests->torchtext) (3.4)\n",
      "Requirement already satisfied: mpmath>=0.19 in c:\\users\\00\\appdata\\local\\programs\\python\\python310\\lib\\site-packages (from sympy->torch==2.0.0->torchtext) (1.3.0)\n",
      "Requirement already satisfied: colorama in c:\\users\\00\\appdata\\roaming\\python\\python310\\site-packages (from tqdm->torchtext) (0.4.6)\n"
     ]
    },
    {
     "name": "stderr",
     "output_type": "stream",
     "text": [
      "WARNING: You are using pip version 21.2.4; however, version 23.1.2 is available.\n",
      "You should consider upgrading via the 'C:\\Users\\00\\AppData\\Local\\Programs\\Python\\Python310\\python.exe -m pip install --upgrade pip' command.\n"
     ]
    }
   ],
   "source": [
    "!pip install --upgrade torchtext"
   ]
  },
  {
   "cell_type": "code",
   "execution_count": 39,
   "metadata": {},
   "outputs": [
    {
     "name": "stderr",
     "output_type": "stream",
     "text": [
      "ERROR: Could not find a version that satisfies the requirement torchtext==0.8.1 (from versions: 0.1.1, 0.2.0, 0.2.1, 0.2.3, 0.3.1, 0.4.0, 0.5.0, 0.6.0, 0.12.0, 0.13.0, 0.13.1, 0.14.0, 0.14.1, 0.15.0, 0.15.1)\n",
      "ERROR: No matching distribution found for torchtext==0.8.1\n",
      "WARNING: You are using pip version 21.2.4; however, version 23.1.2 is available.\n",
      "You should consider upgrading via the 'C:\\Users\\00\\AppData\\Local\\Programs\\Python\\Python310\\python.exe -m pip install --upgrade pip' command.\n"
     ]
    }
   ],
   "source": [
    "!pip install torchtext==0.8.1\n"
   ]
  },
  {
   "cell_type": "code",
   "execution_count": 46,
   "metadata": {},
   "outputs": [],
   "source": [
    "class CustomExample(Example):\n",
    "    def __lt__(self, other):\n",
    "        return len(self.src) < len(other.src)"
   ]
  },
  {
   "cell_type": "code",
   "execution_count": 47,
   "metadata": {},
   "outputs": [],
   "source": [
    "data = [CustomExample.fromlist([q, a], fields) for q, a in zip(questions, answers)]\n",
    "train_data, valid_data, test_data = Dataset(data, fields).split(split_ratio=[0.8, 0.1, 0.1], random_state=random.seed(42))\n",
    "\n",
    "SRC.build_vocab(train_data, min_freq=2)\n",
    "TRG.build_vocab(train_data, min_freq=2)\n",
    "\n",
    "BATCH_SIZE = 128\n",
    "\n",
    "device = torch.device('cuda' if torch.cuda.is_available() else 'cpu')\n",
    "train_iterator, valid_iterator, test_iterator = BucketIterator.splits(\n",
    "    (train_data, valid_data, test_data),\n",
    "    batch_size=BATCH_SIZE,\n",
    "    sort_within_batch=True,\n",
    "    sort_key=lambda x: len(x.src),\n",
    "    device=device)"
   ]
  },
  {
   "cell_type": "code",
   "execution_count": 48,
   "metadata": {},
   "outputs": [],
   "source": [
    "class Encoder(nn.Module):\n",
    "    def __init__(self, input_dim, emb_dim, hid_dim, n_layers, dropout):\n",
    "        super().__init__()\n",
    "        self.hid_dim = hid_dim\n",
    "        self.n_layers = n_layers\n",
    "        self.embedding = nn.Embedding(input_dim, emb_dim)\n",
    "        self.rnn = nn.LSTM(emb_dim, hid_dim, n_layers, dropout=dropout)\n",
    "        self.dropout = nn.Dropout(dropout)\n",
    "\n",
    "    def forward(self, src):\n",
    "        embedded = self.dropout(self.embedding(src))\n",
    "        outputs, (hidden, cell) = self.rnn(embedded)\n",
    "        return hidden, cell\n",
    "\n",
    "class Decoder(nn.Module):\n",
    "    def __init__(self, output_dim, emb_dim, hid_dim, n_layers, dropout):\n",
    "        super().__init__()\n",
    "        self.output_dim = output_dim\n",
    "        self.hid_dim = hid_dim\n",
    "        self.n_layers = n_layers\n",
    "        self.embedding = nn.Embedding(output_dim, emb_dim)\n",
    "        self.rnn = nn.LSTM(emb_dim, hid_dim, n_layers, dropout=dropout)\n",
    "        self.fc_out = nn.Linear(hid_dim, output_dim)\n",
    "        self.dropout = nn.Dropout(dropout)\n",
    "\n",
    "    def forward(self, input, hidden, cell):\n",
    "        input = input.unsqueeze(0)\n",
    "        embedded = self.dropout(self.embedding(input))\n",
    "        output, (hidden, cell) = self.rnn(embedded, (hidden, cell))\n",
    "        prediction = self.fc_out(output.squeeze(0))\n",
    "        return prediction, hidden, cell\n",
    "class Seq2Seq(nn.Module):\n",
    "    def __init__(self, encoder, decoder, device):\n",
    "        super().__init__()\n",
    "        self.encoder = encoder\n",
    "        self.decoder = decoder\n",
    "        self.device = device\n",
    "\n",
    "    def forward(self, src, trg, teacher_forcing_ratio=0.5):\n",
    "        batch_size = trg.shape[1]\n",
    "        trg_len = trg.shape[0]\n",
    "        trg_vocab_size = self.decoder.output_dim\n",
    "        outputs = torch.zeros(trg_len, batch_size, trg_vocab_size).to(self.device)\n",
    "        hidden, cell = self.encoder(src)\n",
    "        input = trg[0, :]\n",
    "        for t in range(1, trg_len):\n",
    "            output, hidden, cell = self.decoder(input, hidden, cell)\n",
    "            outputs[t] = output\n",
    "            teacher_force = random.random() < teacher_forcing_ratio\n",
    "            top1 = output.argmax(1)\n",
    "            input = trg[t] if teacher_force else top1\n",
    "        return outputs"
   ]
  },
  {
   "cell_type": "code",
   "execution_count": 49,
   "metadata": {},
   "outputs": [],
   "source": [
    "INPUT_DIM = len(SRC.vocab)\n",
    "OUTPUT_DIM = len(TRG.vocab)\n",
    "ENC_EMB_DIM = 256\n",
    "DEC_EMB_DIM = 256\n",
    "HID_DIM = 512\n",
    "N_LAYERS = 2\n",
    "ENC_DROPOUT = 0.5\n",
    "DEC_DROPOUT = 0.5\n",
    "\n",
    "enc = Encoder(INPUT_DIM, ENC_EMB_DIM, HID_DIM, N_LAYERS, ENC_DROPOUT)\n",
    "dec = Decoder(OUTPUT_DIM, DEC_EMB_DIM, HID_DIM, N_LAYERS, DEC_DROPOUT)\n",
    "\n",
    "model = Seq2Seq(enc, dec, device).to(device)"
   ]
  },
  {
   "cell_type": "code",
   "execution_count": 50,
   "metadata": {},
   "outputs": [],
   "source": [
    "def train(model, iterator, optimizer, criterion, clip):\n",
    "    model.train()\n",
    "    epoch_loss = 0\n",
    "    for i, batch in enumerate(iterator):\n",
    "        src = batch.src\n",
    "        trg = batch.trg\n",
    "        optimizer.zero_grad()\n",
    "        output = model(src, trg)\n",
    "        output_dim = output.shape[-1]\n",
    "        output = output[1:].view(-1, output_dim)\n",
    "        trg = trg[1:].view(-1)\n",
    "        loss = criterion(output, trg)\n",
    "        loss.backward()\n",
    "        torch.nn.utils.clip_grad_norm_(model.parameters(), clip)\n",
    "        optimizer.step()\n",
    "        epoch_loss += loss.item()\n",
    "    return epoch_loss / len(iterator)\n",
    "\n",
    "def evaluate(model, iterator, criterion):\n",
    "    model.eval()\n",
    "    epoch_loss = 0\n",
    "    with torch.no_grad():\n",
    "        for i, batch in enumerate(iterator):\n",
    "            src = batch.src\n",
    "            trg = batch.trg\n",
    "            output = model(src, trg, 0)\n",
    "            output_dim = output.shape[-1]\n",
    "            output = output[1:].view(-1, output_dim)\n",
    "            trg = trg[1:].view(-1)\n",
    "            loss = criterion(output, trg)\n",
    "            epoch_loss += loss.item()\n",
    "    return epoch_loss / len(iterator)"
   ]
  },
  {
   "cell_type": "code",
   "execution_count": 51,
   "metadata": {},
   "outputs": [],
   "source": [
    "def epoch_time(start_time, end_time):\n",
    "    elapsed_time = end_time - start_time\n",
    "    elapsed_mins = int(elapsed_time / 60)\n",
    "    elapsed_secs = int(elapsed_time - (elapsed_mins * 60))\n",
    "    return elapsed_mins, elapsed_secs\n",
    "    \n",
    "optimizer = optim.Adam(model.parameters())\n",
    "TRG_PAD_IDX = TRG.vocab.stoi[TRG.pad_token]\n",
    "criterion = nn.CrossEntropyLoss(ignore_index=TRG_PAD_IDX)"
   ]
  },
  {
   "cell_type": "code",
   "execution_count": 52,
   "metadata": {},
   "outputs": [
    {
     "name": "stdout",
     "output_type": "stream",
     "text": [
      "Epoch: 01 | Time: 0m 5s\n",
      "\tTrain Loss: 5.634 | Train PPL: 279.731\n",
      "\t Val. Loss: 5.235 |  Val. PPL: 187.788\n",
      "Epoch: 02 | Time: 0m 5s\n",
      "\tTrain Loss: 5.438 | Train PPL: 229.959\n",
      "\t Val. Loss: 4.263 |  Val. PPL:  71.041\n",
      "Epoch: 03 | Time: 0m 5s\n",
      "\tTrain Loss: 4.960 | Train PPL: 142.650\n",
      "\t Val. Loss: 3.126 |  Val. PPL:  22.774\n",
      "Epoch: 04 | Time: 0m 5s\n",
      "\tTrain Loss: 4.134 | Train PPL:  62.422\n",
      "\t Val. Loss: 3.168 |  Val. PPL:  23.759\n",
      "Epoch: 05 | Time: 0m 5s\n",
      "\tTrain Loss: 4.378 | Train PPL:  79.676\n",
      "\t Val. Loss: 3.033 |  Val. PPL:  20.764\n",
      "Epoch: 06 | Time: 0m 5s\n",
      "\tTrain Loss: 4.265 | Train PPL:  71.164\n",
      "\t Val. Loss: 2.841 |  Val. PPL:  17.136\n",
      "Epoch: 07 | Time: 0m 5s\n",
      "\tTrain Loss: 4.000 | Train PPL:  54.609\n",
      "\t Val. Loss: 2.782 |  Val. PPL:  16.149\n",
      "Epoch: 08 | Time: 0m 5s\n",
      "\tTrain Loss: 3.801 | Train PPL:  44.752\n",
      "\t Val. Loss: 2.914 |  Val. PPL:  18.434\n",
      "Epoch: 09 | Time: 0m 5s\n",
      "\tTrain Loss: 3.770 | Train PPL:  43.378\n",
      "\t Val. Loss: 3.010 |  Val. PPL:  20.283\n",
      "Epoch: 10 | Time: 0m 5s\n",
      "\tTrain Loss: 3.796 | Train PPL:  44.530\n",
      "\t Val. Loss: 3.018 |  Val. PPL:  20.444\n",
      "| Test Loss: 2.640 | Test PPL:  14.010 |\n"
     ]
    }
   ],
   "source": [
    "N_EPOCHS = 10\n",
    "CLIP = 1\n",
    "best_valid_loss = float('inf')\n",
    "\n",
    "for epoch in range(N_EPOCHS):\n",
    "    start_time = time.time()\n",
    "    train_loss = train(model, train_iterator, optimizer, criterion, CLIP)\n",
    "    valid_loss = evaluate(model, valid_iterator, criterion)\n",
    "    end_time = time.time()\n",
    "    epoch_mins, epoch_secs = epoch_time(start_time, end_time)\n",
    "    if valid_loss < best_valid_loss:\n",
    "        best_valid_loss = valid_loss\n",
    "        torch.save(model.state_dict(), 'tut6-model.pt')\n",
    "    print(f'Epoch: {epoch+1:02} | Time: {epoch_mins}m {epoch_secs}s')\n",
    "    print(f'\\tTrain Loss: {train_loss:.3f} | Train PPL: {math.exp(train_loss):7.3f}')\n",
    "    print(f'\\t Val. Loss: {valid_loss:.3f} |  Val. PPL: {math.exp(valid_loss):7.3f}')\n",
    "\n",
    "model.load_state_dict(torch.load('tut6-model.pt'))\n",
    "test_loss = evaluate(model, test_iterator, criterion)\n",
    "print(f'| Test Loss: {test_loss:.3f} | Test PPL: {math.exp(test_loss):7.3f} |')"
   ]
  },
  {
   "cell_type": "code",
   "execution_count": 69,
   "metadata": {},
   "outputs": [],
   "source": [
    "def translate_sentence(sentence, src_field, trg_field, model, device, max_len=50):\n",
    "    model.eval()\n",
    "\n",
    "    # Tokenize the source sentence\n",
    "    tokens = [token.lower() for token in sentence.split()]\n",
    "    tokens = [src_field.init_token] + tokens + [src_field.eos_token]\n",
    "    src_indexes = [src_field.vocab.stoi[token] for token in tokens]\n",
    "\n",
    "    # Convert the source sentence to tensor and unsqueeze to add batch dimension\n",
    "    src_tensor = torch.LongTensor(src_indexes).unsqueeze(1).to(device)\n",
    "\n",
    "    # Forward pass through the encoder\n",
    "    with torch.no_grad():\n",
    "        encoder_outputs, hidden = model.encoder(src_tensor)\n",
    "\n",
    "    # Create initial decoder input (start with SOS tokens for all sentences in batch)\n",
    "    trg_indexes = torch.ones(1, 1).fill_(trg_field.vocab.stoi[trg_field.init_token]).long().to(device)\n",
    "\n",
    "    # Create a tensor to store attention scores\n",
    "    attentions = torch.zeros(max_len, 1, len(src_indexes)).to(device)\n",
    "\n",
    "    # Loop through decoding process\n",
    "    for i in range(1, max_len):\n",
    "        with torch.no_grad():\n",
    "            output, hidden, attention = model.decoder(trg_indexes, hidden, encoder_outputs)\n",
    "\n",
    "        # Record attention scores\n",
    "        attentions[i] = attention.squeeze(1)\n",
    "\n",
    "        # Get most likely word index\n",
    "        pred_token = output.argmax(1).item()\n",
    "\n",
    "        # Append prediction to current output\n",
    "        trg_indexes = torch.cat([trg_indexes, torch.ones(1, 1).fill_(pred_token).long().to(device)], dim=0)\n",
    "\n",
    "        # Check if reached end of sentence (EOS)\n",
    "        if pred_token == trg_field.vocab.stoi[trg_field.eos_token]:\n",
    "            break\n",
    "\n",
    "    # Convert output from indexes to tokens\n",
    "    trg_tokens = [trg_field.vocab.itos[i] for i in trg_indexes.squeeze()]\n",
    "\n",
    "    return trg_tokens[1:], attentions[:len(trg_tokens)-1]"
   ]
  },
  {
   "cell_type": "code",
   "execution_count": 70,
   "metadata": {},
   "outputs": [
    {
     "ename": "AssertionError",
     "evalue": "LSTM: Expected input to be 2-D or 3-D but received 4-D tensor",
     "output_type": "error",
     "traceback": [
      "\u001b[1;31m---------------------------------------------------------------------------\u001b[0m",
      "\u001b[1;31mAssertionError\u001b[0m                            Traceback (most recent call last)",
      "Cell \u001b[1;32mIn[70], line 2\u001b[0m\n\u001b[0;32m      1\u001b[0m input_sentence \u001b[39m=\u001b[39m \u001b[39m\"\u001b[39m\u001b[39m서울시 메일\u001b[39m\u001b[39m\"\u001b[39m\n\u001b[1;32m----> 2\u001b[0m translation, attention \u001b[39m=\u001b[39m translate_sentence(input_sentence, SRC, TRG, model, device)\n\u001b[0;32m      4\u001b[0m \u001b[39mprint\u001b[39m(\u001b[39m\"\u001b[39m\u001b[39m \u001b[39m\u001b[39m\"\u001b[39m\u001b[39m.\u001b[39mjoin(translation[:\u001b[39m-\u001b[39m\u001b[39m1\u001b[39m]))\n",
      "Cell \u001b[1;32mIn[69], line 25\u001b[0m, in \u001b[0;36mtranslate_sentence\u001b[1;34m(sentence, src_field, trg_field, model, device, max_len)\u001b[0m\n\u001b[0;32m     23\u001b[0m \u001b[39mfor\u001b[39;00m i \u001b[39min\u001b[39;00m \u001b[39mrange\u001b[39m(\u001b[39m1\u001b[39m, max_len):\n\u001b[0;32m     24\u001b[0m     \u001b[39mwith\u001b[39;00m torch\u001b[39m.\u001b[39mno_grad():\n\u001b[1;32m---> 25\u001b[0m         output, hidden, attention \u001b[39m=\u001b[39m model\u001b[39m.\u001b[39;49mdecoder(trg_indexes, hidden, encoder_outputs)\n\u001b[0;32m     27\u001b[0m     \u001b[39m# Record attention scores\u001b[39;00m\n\u001b[0;32m     28\u001b[0m     attentions[i] \u001b[39m=\u001b[39m attention\u001b[39m.\u001b[39msqueeze(\u001b[39m1\u001b[39m)\n",
      "File \u001b[1;32mc:\\Users\\00\\AppData\\Local\\Programs\\Python\\Python310\\lib\\site-packages\\torch\\nn\\modules\\module.py:1501\u001b[0m, in \u001b[0;36mModule._call_impl\u001b[1;34m(self, *args, **kwargs)\u001b[0m\n\u001b[0;32m   1496\u001b[0m \u001b[39m# If we don't have any hooks, we want to skip the rest of the logic in\u001b[39;00m\n\u001b[0;32m   1497\u001b[0m \u001b[39m# this function, and just call forward.\u001b[39;00m\n\u001b[0;32m   1498\u001b[0m \u001b[39mif\u001b[39;00m \u001b[39mnot\u001b[39;00m (\u001b[39mself\u001b[39m\u001b[39m.\u001b[39m_backward_hooks \u001b[39mor\u001b[39;00m \u001b[39mself\u001b[39m\u001b[39m.\u001b[39m_backward_pre_hooks \u001b[39mor\u001b[39;00m \u001b[39mself\u001b[39m\u001b[39m.\u001b[39m_forward_hooks \u001b[39mor\u001b[39;00m \u001b[39mself\u001b[39m\u001b[39m.\u001b[39m_forward_pre_hooks\n\u001b[0;32m   1499\u001b[0m         \u001b[39mor\u001b[39;00m _global_backward_pre_hooks \u001b[39mor\u001b[39;00m _global_backward_hooks\n\u001b[0;32m   1500\u001b[0m         \u001b[39mor\u001b[39;00m _global_forward_hooks \u001b[39mor\u001b[39;00m _global_forward_pre_hooks):\n\u001b[1;32m-> 1501\u001b[0m     \u001b[39mreturn\u001b[39;00m forward_call(\u001b[39m*\u001b[39margs, \u001b[39m*\u001b[39m\u001b[39m*\u001b[39mkwargs)\n\u001b[0;32m   1502\u001b[0m \u001b[39m# Do not call functions when jit is used\u001b[39;00m\n\u001b[0;32m   1503\u001b[0m full_backward_hooks, non_full_backward_hooks \u001b[39m=\u001b[39m [], []\n",
      "Cell \u001b[1;32mIn[48], line 29\u001b[0m, in \u001b[0;36mDecoder.forward\u001b[1;34m(self, input, hidden, cell)\u001b[0m\n\u001b[0;32m     27\u001b[0m \u001b[39minput\u001b[39m \u001b[39m=\u001b[39m \u001b[39minput\u001b[39m\u001b[39m.\u001b[39munsqueeze(\u001b[39m0\u001b[39m)\n\u001b[0;32m     28\u001b[0m embedded \u001b[39m=\u001b[39m \u001b[39mself\u001b[39m\u001b[39m.\u001b[39mdropout(\u001b[39mself\u001b[39m\u001b[39m.\u001b[39membedding(\u001b[39minput\u001b[39m))\n\u001b[1;32m---> 29\u001b[0m output, (hidden, cell) \u001b[39m=\u001b[39m \u001b[39mself\u001b[39;49m\u001b[39m.\u001b[39;49mrnn(embedded, (hidden, cell))\n\u001b[0;32m     30\u001b[0m prediction \u001b[39m=\u001b[39m \u001b[39mself\u001b[39m\u001b[39m.\u001b[39mfc_out(output\u001b[39m.\u001b[39msqueeze(\u001b[39m0\u001b[39m))\n\u001b[0;32m     31\u001b[0m \u001b[39mreturn\u001b[39;00m prediction, hidden, cell\n",
      "File \u001b[1;32mc:\\Users\\00\\AppData\\Local\\Programs\\Python\\Python310\\lib\\site-packages\\torch\\nn\\modules\\module.py:1501\u001b[0m, in \u001b[0;36mModule._call_impl\u001b[1;34m(self, *args, **kwargs)\u001b[0m\n\u001b[0;32m   1496\u001b[0m \u001b[39m# If we don't have any hooks, we want to skip the rest of the logic in\u001b[39;00m\n\u001b[0;32m   1497\u001b[0m \u001b[39m# this function, and just call forward.\u001b[39;00m\n\u001b[0;32m   1498\u001b[0m \u001b[39mif\u001b[39;00m \u001b[39mnot\u001b[39;00m (\u001b[39mself\u001b[39m\u001b[39m.\u001b[39m_backward_hooks \u001b[39mor\u001b[39;00m \u001b[39mself\u001b[39m\u001b[39m.\u001b[39m_backward_pre_hooks \u001b[39mor\u001b[39;00m \u001b[39mself\u001b[39m\u001b[39m.\u001b[39m_forward_hooks \u001b[39mor\u001b[39;00m \u001b[39mself\u001b[39m\u001b[39m.\u001b[39m_forward_pre_hooks\n\u001b[0;32m   1499\u001b[0m         \u001b[39mor\u001b[39;00m _global_backward_pre_hooks \u001b[39mor\u001b[39;00m _global_backward_hooks\n\u001b[0;32m   1500\u001b[0m         \u001b[39mor\u001b[39;00m _global_forward_hooks \u001b[39mor\u001b[39;00m _global_forward_pre_hooks):\n\u001b[1;32m-> 1501\u001b[0m     \u001b[39mreturn\u001b[39;00m forward_call(\u001b[39m*\u001b[39margs, \u001b[39m*\u001b[39m\u001b[39m*\u001b[39mkwargs)\n\u001b[0;32m   1502\u001b[0m \u001b[39m# Do not call functions when jit is used\u001b[39;00m\n\u001b[0;32m   1503\u001b[0m full_backward_hooks, non_full_backward_hooks \u001b[39m=\u001b[39m [], []\n",
      "File \u001b[1;32mc:\\Users\\00\\AppData\\Local\\Programs\\Python\\Python310\\lib\\site-packages\\torch\\nn\\modules\\rnn.py:773\u001b[0m, in \u001b[0;36mLSTM.forward\u001b[1;34m(self, input, hx)\u001b[0m\n\u001b[0;32m    771\u001b[0m \u001b[39melse\u001b[39;00m:\n\u001b[0;32m    772\u001b[0m     batch_sizes \u001b[39m=\u001b[39m \u001b[39mNone\u001b[39;00m\n\u001b[1;32m--> 773\u001b[0m     \u001b[39massert\u001b[39;00m (\u001b[39minput\u001b[39m\u001b[39m.\u001b[39mdim() \u001b[39min\u001b[39;00m (\u001b[39m2\u001b[39m, \u001b[39m3\u001b[39m)), \u001b[39mf\u001b[39m\u001b[39m\"\u001b[39m\u001b[39mLSTM: Expected input to be 2-D or 3-D but received \u001b[39m\u001b[39m{\u001b[39;00m\u001b[39minput\u001b[39m\u001b[39m.\u001b[39mdim()\u001b[39m}\u001b[39;00m\u001b[39m-D tensor\u001b[39m\u001b[39m\"\u001b[39m\n\u001b[0;32m    774\u001b[0m     is_batched \u001b[39m=\u001b[39m \u001b[39minput\u001b[39m\u001b[39m.\u001b[39mdim() \u001b[39m==\u001b[39m \u001b[39m3\u001b[39m\n\u001b[0;32m    775\u001b[0m     batch_dim \u001b[39m=\u001b[39m \u001b[39m0\u001b[39m \u001b[39mif\u001b[39;00m \u001b[39mself\u001b[39m\u001b[39m.\u001b[39mbatch_first \u001b[39melse\u001b[39;00m \u001b[39m1\u001b[39m\n",
      "\u001b[1;31mAssertionError\u001b[0m: LSTM: Expected input to be 2-D or 3-D but received 4-D tensor"
     ]
    }
   ],
   "source": [
    "input_sentence = \"서울시 메일\"\n",
    "translation, attention = translate_sentence(input_sentence, SRC, TRG, model, device)\n",
    "\n",
    "print(\" \".join(translation[:-1]))"
   ]
  },
  {
   "cell_type": "code",
   "execution_count": null,
   "metadata": {},
   "outputs": [],
   "source": []
  }
 ],
 "metadata": {
  "kernelspec": {
   "display_name": "Python 3",
   "language": "python",
   "name": "python3"
  },
  "language_info": {
   "codemirror_mode": {
    "name": "ipython",
    "version": 3
   },
   "file_extension": ".py",
   "mimetype": "text/x-python",
   "name": "python",
   "nbconvert_exporter": "python",
   "pygments_lexer": "ipython3",
   "version": "3.10.2"
  },
  "orig_nbformat": 4
 },
 "nbformat": 4,
 "nbformat_minor": 2
}

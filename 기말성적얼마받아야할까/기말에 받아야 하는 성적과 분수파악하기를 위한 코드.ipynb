{
  "nbformat": 4,
  "nbformat_minor": 0,
  "metadata": {
    "colab": {
      "provenance": [],
      "authorship_tag": "ABX9TyMHu1JL96TNCl0UZelglT0T",
      "include_colab_link": true
    },
    "kernelspec": {
      "name": "python3",
      "display_name": "Python 3"
    },
    "language_info": {
      "name": "python"
    }
  },
  "cells": [
    {
      "cell_type": "markdown",
      "metadata": {
        "id": "view-in-github",
        "colab_type": "text"
      },
      "source": [
        "<a href=\"https://colab.research.google.com/github/pmj-chosim/Trash/blob/main/%EA%B8%B0%EB%A7%90%EC%97%90%20%EB%B0%9B%EC%95%84%EC%95%BC%20%ED%95%98%EB%8A%94%20%EC%84%B1%EC%A0%81%20%EC%98%88%EC%83%81%ED%95%98%EA%B3%A0%20%EB%B6%84%EC%88%98%ED%8C%8C%EC%95%85%ED%95%98%EA%B8%B0.ipynb\" target=\"_parent\"><img src=\"https://colab.research.google.com/assets/colab-badge.svg\" alt=\"Open In Colab\"/></a>"
      ]
    },
    {
      "cell_type": "code",
      "source": [
        "input_str = input().split()  # 입력 문자열을 스페이스바 기준 분할\n",
        "n = len(input_str)\n",
        "grades = []\n",
        "\n",
        "for i in range(0, n, 6):  # 학번과 점수들이 6개씩 묶여있어서서\n",
        "    grade = [int(input_str[i])] + list(map(int, input_str[i+1:i+6]))\n",
        "    grades.append(grade)\n",
        "grades"
      ],
      "metadata": {
        "id": "SOrNTWYjcF-p"
      },
      "execution_count": null,
      "outputs": []
    },
    {
      "cell_type": "code",
      "source": [
        "scores = []\n",
        "for grade in grades:\n",
        "    scores.append(grade[5])\n",
        "scores"
      ],
      "metadata": {
        "colab": {
          "base_uri": "https://localhost:8080/"
        },
        "id": "d-_VfEIDbA-y",
        "outputId": "95876fd1-59f5-4212-e814-b6a6b64cedc7"
      },
      "execution_count": 17,
      "outputs": [
        {
          "output_type": "execute_result",
          "data": {
            "text/plain": [
              "[73,\n",
              " 65,\n",
              " 100,\n",
              " 11,\n",
              " 85,\n",
              " 72,\n",
              " 50,\n",
              " 15,\n",
              " 97,\n",
              " 83,\n",
              " 53,\n",
              " 0,\n",
              " 58,\n",
              " 84,\n",
              " 46,\n",
              " 50,\n",
              " 25,\n",
              " 53,\n",
              " 69,\n",
              " 63,\n",
              " 22,\n",
              " 28,\n",
              " 33,\n",
              " 100,\n",
              " 53,\n",
              " 0,\n",
              " 92,\n",
              " 59,\n",
              " 39,\n",
              " 89,\n",
              " 89,\n",
              " 26,\n",
              " 14,\n",
              " 40,\n",
              " 71,\n",
              " 64,\n",
              " 40,\n",
              " 41,\n",
              " 56,\n",
              " 95,\n",
              " 98,\n",
              " 74,\n",
              " 81,\n",
              " 44,\n",
              " 28,\n",
              " 72,\n",
              " 100,\n",
              " 39,\n",
              " 90,\n",
              " 53,\n",
              " 70,\n",
              " 90,\n",
              " 66,\n",
              " 48,\n",
              " 77,\n",
              " 69,\n",
              " 63,\n",
              " 87,\n",
              " 42,\n",
              " 72,\n",
              " 79,\n",
              " 96,\n",
              " 12,\n",
              " 81,\n",
              " 97,\n",
              " 44]"
            ]
          },
          "metadata": {},
          "execution_count": 17
        }
      ]
    },
    {
      "cell_type": "code",
      "source": [
        "scores.sort(reverse=True)"
      ],
      "metadata": {
        "id": "ZzCN2EA9bgj1"
      },
      "execution_count": 18,
      "outputs": []
    },
    {
      "cell_type": "code",
      "source": [
        "num_students =  len(scores)\n",
        "\n",
        "# 5% 간격으로 구간을 설정.\n",
        "for i in range(10, 101, 5):\n",
        "    # 상위 i% 학생 수\n",
        "    top_i_percent = int(num_students * (i / 100))\n",
        "    \n",
        "    # 각 구간별 컷\n",
        "    cut_i_percent = scores[top_i_percent - 1]\n",
        "    \n",
        "    print(f\"상위 {i}% 컷:\", cut_i_percent)"
      ],
      "metadata": {
        "colab": {
          "base_uri": "https://localhost:8080/"
        },
        "id": "t4LvWsz5aiBs",
        "outputId": "7b9cc51d-1de2-48e3-fbe3-e847fd30644a"
      },
      "execution_count": 19,
      "outputs": [
        {
          "output_type": "stream",
          "name": "stdout",
          "text": [
            "상위 10% 컷: 97\n",
            "상위 15% 컷: 92\n",
            "상위 20% 컷: 89\n",
            "상위 25% 컷: 84\n",
            "상위 30% 컷: 81\n",
            "상위 35% 컷: 73\n",
            "상위 40% 컷: 72\n",
            "상위 45% 컷: 69\n",
            "상위 50% 컷: 64\n",
            "상위 55% 컷: 59\n",
            "상위 60% 컷: 53\n",
            "상위 65% 컷: 53\n",
            "상위 70% 컷: 46\n",
            "상위 75% 컷: 42\n",
            "상위 80% 컷: 40\n",
            "상위 85% 컷: 28\n",
            "상위 90% 컷: 25\n",
            "상위 95% 컷: 14\n",
            "상위 100% 컷: 0\n"
          ]
        }
      ]
    },
    {
      "cell_type": "code",
      "source": [
        "import numpy as np\n",
        "\n",
        "scores = [grade[5] for grade in grades]\n",
        "\n",
        "scores.sort(reverse=True)\n",
        "num_students = len(scores)\n",
        "\n",
        "scores_array = np.array(scores)\n",
        "std = np.std(scores_array)\n",
        "\n",
        "print(\"점수 표준편차:\", std)"
      ],
      "metadata": {
        "colab": {
          "base_uri": "https://localhost:8080/"
        },
        "id": "9DolZlZqehdO",
        "outputId": "e99a5c5f-47fa-4ae0-e637-10cf5c864a47"
      },
      "execution_count": 23,
      "outputs": [
        {
          "output_type": "stream",
          "name": "stdout",
          "text": [
            "점수 표준편차: 26.842862295186535\n"
          ]
        }
      ]
    },
    {
      "cell_type": "code",
      "source": [
        "import matplotlib.pyplot as plt\n",
        "\n",
        "# 평균, 표준편차 \n",
        "mean = np.mean(scores_array)\n",
        "std = np.std(scores_array)\n",
        "\n",
        "# 구간 범위 설정\n",
        "min_score = int(mean - 3 * std)\n",
        "max_score = int(mean + 3 * std)\n",
        "bins = np.arange(min_score, max_score + 1, 5)\n",
        "\n",
        "# 히스토그램 \n",
        "plt.hist(scores_array, bins=bins, edgecolor='black')\n",
        "plt.axvline(mean, color='red', linestyle='dashed', linewidth=1)\n",
        "plt.title('Distribution of Scores')\n",
        "plt.xlabel('Score')\n",
        "plt.ylabel('Frequency')\n",
        "plt.show()"
      ],
      "metadata": {
        "colab": {
          "base_uri": "https://localhost:8080/",
          "height": 472
        },
        "id": "zx_S-C12e-zG",
        "outputId": "505829b0-aec6-4a3d-e430-cf805b7caf31"
      },
      "execution_count": 24,
      "outputs": [
        {
          "output_type": "display_data",
          "data": {
            "text/plain": [
              "<Figure size 640x480 with 1 Axes>"
            ],
            "image/png": "[encoded data removed]"
          },
          "metadata": {}
        }
      ]
    },
    {
      "cell_type": "code",
      "source": [
        "cuts = []\n",
        "for i in [50, 70, 80, 90]:\n",
        "    # 상위 i% 학생 수\n",
        "    top_i_percent = int(num_students * (i / 100))\n",
        "\n",
        "    # 각 구간별 컷\n",
        "    cut_i_percent = scores[top_i_percent - 1]\n",
        "    cuts.append(cut_i_percent)\n",
        "\n",
        "    print(f\"상위 {i}% 컷:\", cut_i_percent)\n",
        "\n",
        "# 히스토그램 생성\n",
        "fig, ax = plt.subplots()\n",
        "ax.hist(scores, bins=range(0, 110, 10), rwidth=0.8)\n",
        "\n",
        "\n",
        "### 성적 입력하세요요 !!!!!!!!!!!!!!!!!\n",
        "my_score=90 #90이면 정말 너무 좋겠다..성적 잘 받고 싶다.....하.....\n",
        "\n",
        "\n",
        "ax.axvline(my_score, color='blue', linestyle='--') \n",
        "\n",
        "# 컷에 해당하는 선 그리기\n",
        "for cut in cuts:\n",
        "    ax.axvline(x=cut, color='r')\n",
        "\n",
        "plt.show()"
      ],
      "metadata": {
        "colab": {
          "base_uri": "https://localhost:8080/",
          "height": 503
        },
        "id": "WNqOvbDzgoXc",
        "outputId": "11e09fcf-2195-4288-a74c-0059fcab5ba5"
      },
      "execution_count": 41,
      "outputs": [
        {
          "output_type": "stream",
          "name": "stdout",
          "text": [
            "상위 50% 컷: 64\n",
            "상위 70% 컷: 46\n",
            "상위 80% 컷: 40\n",
            "상위 90% 컷: 25\n"
          ]
        },
        {
          "output_type": "display_data",
          "data": {
            "text/plain": [
              "<Figure size 640x480 with 1 Axes>"
            ],
            "image/png": "[encoded data removed]"
          },
          "metadata": {}
        }
      ]
    },
    {
      "cell_type": "code",
      "source": [
        "forA=int(num_students*(40/100)) #A비율이 30%이면 30으로 변경경\n",
        "\n",
        "forB = int(num_students * (70 / 100))\n",
        "    \n",
        "# 각 구간별 컷\n",
        "cutfora = scores[forA - 1]\n",
        "cutforb = scores[forB - 1]\n",
        "    \n",
        "print(f\"A 범위 해당을 위해 받아야 할 최소 성적 : {2*cutfora-my_score}\")\n",
        "print(f\"B 범위 해당을 위해 받아야 할 최소 성적 : {2*cutforb-my_score}\")"
      ],
      "metadata": {
        "colab": {
          "base_uri": "https://localhost:8080/"
        },
        "id": "B56Ghicpi9SO",
        "outputId": "fd14fe5c-08fb-4d71-e839-9c4b2b0c9c9c"
      },
      "execution_count": 42,
      "outputs": [
        {
          "output_type": "stream",
          "name": "stdout",
          "text": [
            "A 범위 해당을 위해 받아야 할 최소 성적 : 54\n",
            "B 범위 해당을 위해 받아야 할 최소 성적 : 2\n"
          ]
        }
      ]
    }
  ]
}
